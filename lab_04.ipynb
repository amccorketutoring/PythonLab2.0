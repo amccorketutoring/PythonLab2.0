{
  "cells": [
    {
      "cell_type": "markdown",
      "metadata": {
        "id": "9YaJGKmBe1xF"
      },
      "source": [
        "# Lab 4\n",
        "\n",
        "[![Open In Colab](https://colab.research.google.com/assets/colab-badge.svg)](https://colab.research.google.com/github/giswqs/geog-510/blob/main/book/labs/lab_04.ipynb)"
      ]
    },
    {
      "cell_type": "markdown",
      "metadata": {
        "id": "aLM_UWC8e1xI"
      },
      "source": [
        "## Exercise 1: Variable Assignment and Basic Operations\n",
        "\n",
        "Create variables to store the following geospatial data:\n",
        "\n",
        "- The latitude and longitude of New York City: 40.7128, -74.0060.\n",
        "- The population of New York City: 8,336,817.\n",
        "- The area of New York City in square kilometers: 783.8.\n",
        "\n",
        "Perform the following tasks:\n",
        "\n",
        "1. Calculate and print the population density of New York City (population per square kilometer).\n",
        "2. Print the coordinates in the format \"Latitude: [latitude], Longitude: [longitude]\"."
      ]
    },
    {
      "cell_type": "code",
      "execution_count": 59,
      "metadata": {
        "id": "pERXQh_Je1xJ"
      },
      "outputs": [
        {
          "name": "stdout",
          "output_type": "stream",
          "text": [
            "Population Density: 10636.41 people per square km\n",
            "Latitude: 40.7128, Longitude: -74.006\n"
          ]
        }
      ],
      "source": [
        "# Define variables\n",
        "nyc_lat = 40.7128\n",
        "nyc_lon = -74.0060\n",
        "nyc_population = 8336817\n",
        "nyc_area_sq_km = 783.8\n",
        "\n",
        "# Calculate the population density \n",
        "nyc_pop_density = nyc_population / nyc_area_sq_km\n",
        "\n",
        "# Print the results\n",
        "print(f\"Population Density: {nyc_pop_density:.2f} people per square km\")\n",
        "print(f\"Latitude: {nyc_lat}, Longitude: {nyc_lon}\")\n",
        "\n"
      ]
    },
    {
      "cell_type": "markdown",
      "metadata": {
        "id": "dhv0zfCHe1xK"
      },
      "source": [
        "## Exercise 2: Working with Strings\n",
        "\n",
        "Create a string variable to store the name of a city, such as \"San Francisco\". Perform the following operations:\n",
        "\n",
        "1. Convert the string to lowercase and print the result.\n",
        "2. Convert the string to uppercase and print the result.\n",
        "3. Replace \"San\" with \"Los\" in the city name and print the new string."
      ]
    },
    {
      "cell_type": "code",
      "execution_count": 60,
      "metadata": {
        "id": "GxmwfIcme1xK"
      },
      "outputs": [
        {
          "name": "stdout",
          "output_type": "stream",
          "text": [
            "san francisco\n",
            "SAN FRANCISCO\n",
            "Los Francisco\n"
          ]
        }
      ],
      "source": [
        "# Exercise 2: Working with Strings\n",
        "city = \"San Francisco\"\n",
        "\n",
        "# 1. Convert the string to lowercase and print the result\n",
        "print(city.lower())\n",
        "\n",
        "# 2. Convert the string to uppercase and print the result\n",
        "print(city.upper())\n",
        "\n",
        "# 3. Replace \"San\" with \"Los\" and print the new string\n",
        "print(city.replace(\"San\", \"Los\"))\n"
      ]
    },
    {
      "cell_type": "markdown",
      "metadata": {
        "id": "CNP8ezWKe1xK"
      },
      "source": [
        "## Exercise 3: Using Lists\n",
        "\n",
        "Create a list of tuples, where each tuple contains the name of a city and its corresponding latitude and longitude:\n",
        "\n",
        "- New York City: (40.7128, -74.0060)\n",
        "- Los Angeles: (34.0522, -118.2437)\n",
        "- Chicago: (41.8781, -87.6298)\n",
        "\n",
        "Perform the following tasks:\n",
        "\n",
        "1. Add a new city (e.g., Miami: (25.7617, -80.1918)) to the list.\n",
        "2. Print the entire list of cities.\n",
        "3. Slice the list to print only the first two cities."
      ]
    },
    {
      "cell_type": "code",
      "execution_count": 61,
      "metadata": {
        "id": "Uv9GvKlxe1xL"
      },
      "outputs": [
        {
          "name": "stdout",
          "output_type": "stream",
          "text": [
            "Complete List of Cities:\n",
            "('New York City', (40.7128, -74.006))\n",
            "('Los Angeles', (34.0522, -118.2437))\n",
            "('Chicago', (41.8781, -87.6298))\n",
            "('Miami', (25, 7617, -80.1918))\n",
            "\n",
            "First Two Cities:\n",
            "('New York City', (40.7128, -74.006))\n",
            "('Los Angeles', (34.0522, -118.2437))\n"
          ]
        }
      ],
      "source": [
        "# First, Create the tuple list with city names and their coordinates\n",
        "cities = [(\"New York City\", (40.7128, -74.0060)), (\"Los Angeles\", (34.0522, -118.2437)), (\"Chicago\", (41.8781, -87.6298))]\n",
        "\n",
        "# Next, Add a new city using append function\n",
        "cities.append((\"Miami\", (25,7617,-80.1918)))\n",
        "\n",
        "# Then, Print the newly appended list of cities \n",
        "print(\"Complete List of Cities:\")\n",
        "for city in cities:\n",
        "    print(city)\n",
        "    \n",
        "# Lastly: Slice the list to print only the first two cities\n",
        "print(\"\\nFirst Two Cities:\")\n",
        "for city in cities[:2]:  # Slicing to get the first two elements\n",
        "    print(city)\n",
        "\n",
        "\n"
      ]
    },
    {
      "cell_type": "markdown",
      "metadata": {
        "id": "ZnsZUklTe1xL"
      },
      "source": [
        "## Exercise 4: Using Tuples\n",
        "\n",
        "Create a tuple to store the coordinates (latitude, longitude) of the Eiffel Tower: (48.8584, 2.2945). Perform the following tasks:\n",
        "\n",
        "1. Access and print the latitude and longitude values from the tuple.\n",
        "2. Try to change the latitude value to 48.8585. What happens? Explain why."
      ]
    },
    {
      "cell_type": "code",
      "execution_count": 62,
      "metadata": {
        "id": "4T8DGgl_e1xM"
      },
      "outputs": [
        {
          "name": "stdout",
          "output_type": "stream",
          "text": [
            "Latitude: 48.8584, Longitude: 2.2945\n",
            "Error: 'tuple' object does not support item assignment\n"
          ]
        }
      ],
      "source": [
        "# First create the tuple to store the ET coordinates\n",
        "ET_coordinates = (48.8584, 2.2945)\n",
        "\n",
        "# Next, access and print the latitude and longitude values\n",
        "ET_lat = ET_coordinates[0]\n",
        "ET_lon = ET_coordinates[1]\n",
        "\n",
        "print(f\"Latitude: {ET_lat}, Longitude: {ET_lon}\")\n",
        "\n",
        "# Now attempt to change the value for ET_lat\n",
        "try: \n",
        "    ET_coordinates[0] = 48.8585\n",
        "except TypeError as e:\n",
        "    print(f\"Error: {e}\")\n",
        "\n",
        "# The simplest explanation is that Tuples are immutable in Python and therefore can't be changed after originally being defined"
      ]
    },
    {
      "cell_type": "markdown",
      "metadata": {
        "id": "jQYCp1f1e1xM"
      },
      "source": [
        "## Exercise 5: Working with Sets\n",
        "\n",
        "Create a set of countries you have visited, such as {\"USA\", \"France\", \"Germany\"}. Perform the following tasks:\n",
        "\n",
        "1. Add a new country to the set.\n",
        "2. Try to add the same country again. What happens?\n",
        "3. Print the updated set."
      ]
    },
    {
      "cell_type": "code",
      "execution_count": 63,
      "metadata": {
        "id": "59ClP4x2e1xN"
      },
      "outputs": [
        {
          "name": "stdout",
          "output_type": "stream",
          "text": [
            "Revised List of Visited Countries: {'Germany', 'New Zealand', 'France', 'USA'}\n",
            "Alphabetically Sorted List of Visited Countries: ['France', 'Germany', 'New Zealand', 'USA']\n"
          ]
        }
      ],
      "source": [
        "# First, create a set of countries visited\n",
        "my_visited_countries = {\"USA\", \"France\", \"Germany\"}\n",
        "\n",
        "# Next, add a new country visited using add.\n",
        "my_visited_countries.add(\"New Zealand\")\n",
        "\n",
        "# Now try to add NZ again\n",
        "my_visited_countries.add(\"New Zealand\")\n",
        "\n",
        "# Lastly, print the updated set of countries\n",
        "print(\"Revised List of Visited Countries:\", my_visited_countries)\n",
        "\n",
        "# Sets do not allow duplicate elements. \n",
        "\n",
        "# Now place countries visited in alphabetical order\n",
        "sorted_visited_countries = sorted(my_visited_countries)\n",
        "\n",
        "print(\"Alphabetically Sorted List of Visited Countries:\", sorted_visited_countries)\n"
      ]
    },
    {
      "cell_type": "markdown",
      "metadata": {
        "id": "mhiOBYB4e1xN"
      },
      "source": [
        "## Exercise 6: Working with Dictionaries\n",
        "\n",
        "Create a dictionary to store information about a specific geospatial feature, such as a river:\n",
        "\n",
        "- Name: \"Amazon River\"\n",
        "- Length: 6400 km\n",
        "- Countries: [\"Brazil\", \"Peru\", \"Colombia\"]\n",
        "\n",
        "Perform the following tasks:\n",
        "\n",
        "1. Add a new key-value pair to the dictionary to store the river's average discharge (e.g., 209,000 m³/s).\n",
        "2. Update the length of the river to 6992 km.\n",
        "3. Print the dictionary."
      ]
    },
    {
      "cell_type": "code",
      "execution_count": 64,
      "metadata": {
        "id": "MhgGkN-te1xN"
      },
      "outputs": [
        {
          "name": "stdout",
          "output_type": "stream",
          "text": [
            "Updated River Information:\n",
            "{'Name': 'Amazon River', 'Length_km': 6992, 'Countries': ['Brazil', 'Peru', 'Colombia'], 'Average_Discharge_m3_per_s': 209000}\n"
          ]
        }
      ],
      "source": [
        "# First, create a dictionary that has the given info about the Amazon River\n",
        "river_stats = {\"Name\": \"Amazon River\", \"Length_km\": 6400, \"Countries\": [\"Brazil\", \"Peru\", \"Colombia\"]}\n",
        "\n",
        "# Add a new key-value pair to the dictionary to store the river's average discharge\n",
        "river_stats[\"Average_Discharge_m3_per_s\"] = 209000\n",
        "\n",
        "# Then Update the length of the river\n",
        "river_stats[\"Length_km\"] = 6992\n",
        "\n",
        "# Lastly, print the updated dictionary\n",
        "print(\"Updated River Information:\")\n",
        "print(river_stats)\n",
        "\n"
      ]
    },
    {
      "cell_type": "markdown",
      "metadata": {
        "id": "gXF5LA39e1xN"
      },
      "source": [
        "## Exercise 7: Nested Data Structures\n",
        "\n",
        "Create a dictionary to represent a city that contains the city's name, population, and coordinates (latitude, longitude):\n",
        "\n",
        "- Name: \"Tokyo\"\n",
        "- Population: 13,515,271\n",
        "- Coordinates: (35.6895, 139.6917)\n",
        "\n",
        "Perform the following tasks:\n",
        "\n",
        "1. Access and print the population of the city.\n",
        "2. Access and print the city's latitude.\n",
        "3. Update the population to 14,000,000 and print the updated dictionary."
      ]
    },
    {
      "cell_type": "code",
      "execution_count": 65,
      "metadata": {
        "id": "L7BJmap3e1xO"
      },
      "outputs": [
        {
          "name": "stdout",
          "output_type": "stream",
          "text": [
            "Population of Tokyo: 13515271\n",
            "Latitude of Tokyo: 35.6895\n",
            "Updated Information for Tokyo: {'Name': 'Tokyo', 'Population': 140000000, 'Coordinates': (35.6895, 139.6917)}\n"
          ]
        }
      ],
      "source": [
        "# Create a dictionary with the outlined specs\n",
        "city_info = {\n",
        "    \"Name\": \"Tokyo\",\n",
        "    \"Population\": 13515271,\n",
        "    \"Coordinates\": (35.6895, 139.6917)  # Tuple for latitude and longitude\n",
        "}\n",
        "\n",
        "# Then access and print the city population\n",
        "print(\"Population of Tokyo:\", city_info[\"Population\"])\n",
        "\n",
        "# Next, access and the print the city's latitiude\n",
        "Tokyo_lat = city_info[\"Coordinates\"][0] \n",
        "print(\"Latitude of Tokyo:\",Tokyo_lat)\n",
        "\n",
        "# Also, update the population\n",
        "city_info [\"Population\"] = 140000000\n",
        "\n",
        "# Lastly, Print the updated dictionary\n",
        "print(\"Updated Information for Tokyo:\", city_info)\n",
        "\n"
      ]
    },
    {
      "cell_type": "markdown",
      "metadata": {
        "id": "KQMbJEI2e1xO"
      },
      "source": [
        "## Exercise 8: List Operations\n",
        "\n",
        "Given the list of cities from Exercise 3, perform the following operations:\n",
        "\n",
        "1. Sort the list of cities alphabetically by name.\n",
        "2. Create a new list that contains only the city names.\n",
        "3. Remove the last city from the original list and print the updated list."
      ]
    },
    {
      "cell_type": "code",
      "execution_count": 66,
      "metadata": {
        "id": "WzCzuD8_e1xO"
      },
      "outputs": [
        {
          "name": "stdout",
          "output_type": "stream",
          "text": [
            "Sorted List of Cities: [('Chicago', (41.8781, -87.6298)), ('Los Angeles', (34.0522, -118.2437)), ('Miami', (25.7617, -80.1918)), ('New York City', (40.7128, -74.006))]\n",
            "List of City Names: ['Chicago', 'Los Angeles', 'Miami', 'New York City']\n",
            "Updated Original List (After Removing Last City): [('New York City', (40.7128, -74.006)), ('Los Angeles', (34.0522, -118.2437)), ('Chicago', (41.8781, -87.6298))]\n"
          ]
        }
      ],
      "source": [
        "# First, create the list of cities from Exercise 3\n",
        "cities = [\n",
        "    (\"New York City\", (40.7128, -74.0060)),\n",
        "    (\"Los Angeles\", (34.0522, -118.2437)),\n",
        "    (\"Chicago\", (41.8781, -87.6298)),\n",
        "    (\"Miami\", (25.7617, -80.1918))\n",
        "]\n",
        "\n",
        "# Then sort the list of cities alphabetically by name\n",
        "cities_sorted = sorted(cities, key=lambda city: city[0])\n",
        "\n",
        "# Next, reate a new list containing only the city names\n",
        "city_names = [city[0] for city in cities_sorted]\n",
        "\n",
        "# Lastly. remove the last city from the original list\n",
        "cities.pop()\n",
        "\n",
        "# Print results\n",
        "print(\"Sorted List of Cities:\", cities_sorted)\n",
        "print(\"List of City Names:\", city_names)\n",
        "print(\"Updated Original List (After Removing Last City):\", cities)\n"
      ]
    },
    {
      "cell_type": "markdown",
      "metadata": {
        "id": "abkL_Erce1xO"
      },
      "source": [
        "## Exercise 9: Dictionary Operations\n",
        "\n",
        "Using the dictionary from Exercise 6, perform the following tasks:\n",
        "\n",
        "1. Check if the key \"Length\" exists in the dictionary.\n",
        "2. Print all the keys in the dictionary.\n",
        "3. Print all the values in the dictionary."
      ]
    },
    {
      "cell_type": "code",
      "execution_count": 67,
      "metadata": {
        "id": "l8-SvXP0e1xO"
      },
      "outputs": [
        {
          "name": "stdout",
          "output_type": "stream",
          "text": [
            "{'Name': 'Amazon River', 'Length_km': 6992, 'Countries': ['Brazil', 'Peru', 'Colombia'], 'Average_Discharge_m3_per_s': 209000}\n",
            "Does the key 'Length' exist in the dictionary? False\n",
            "All Keys in Dictionary: ['Name', 'Length_km', 'Countries', 'Average_Discharge_m3_per_s']\n",
            "All Values in Dictionary: ['Amazon River', 6992, ['Brazil', 'Peru', 'Colombia'], 209000]\n"
          ]
        }
      ],
      "source": [
        "# First, print the river stats from previous question\n",
        "print(river_stats)\n",
        "\n",
        "\n",
        "# Next, check if the key \"Length\" exists in the dictionary\n",
        "key_to_check = \"Length\"\n",
        "key_exists = key_to_check in river_stats\n",
        "\n",
        "# Print all keys in the dictionary\n",
        "all_keys = river_stats.keys()\n",
        "\n",
        "# Print all values in the dictionary\n",
        "all_values = river_stats.values()\n",
        "\n",
        "# Display results\n",
        "print(f\"Does the key '{key_to_check}' exist in the dictionary? {key_exists}\")\n",
        "print(\"All Keys in Dictionary:\", list(all_keys))\n",
        "print(\"All Values in Dictionary:\", list(all_values))\n"
      ]
    },
    {
      "cell_type": "markdown",
      "metadata": {
        "id": "B0eONBb0e1xO"
      },
      "source": [
        "## Exercise 10: Practical Application\n",
        "\n",
        "Imagine you have a list of tuples, each representing a location with its name, latitude, and longitude:"
      ]
    },
    {
      "cell_type": "code",
      "execution_count": 68,
      "metadata": {
        "id": "iYC0M4Hje1xO"
      },
      "outputs": [],
      "source": [
        "locations = [\n",
        "    (\"Mount Everest\", 27.9881, 86.9250),\n",
        "    (\"K2\", 35.8808, 76.5155),\n",
        "    (\"Kangchenjunga\", 27.7025, 88.1475),\n",
        "]"
      ]
    },
    {
      "cell_type": "markdown",
      "metadata": {
        "id": "13qXUE68e1xP"
      },
      "source": [
        "Perform the following tasks:\n",
        "\n",
        "1. Create a new list that contains only the names of the locations.\n",
        "2. Create a dictionary where the keys are location names and the values are tuples of their coordinates.\n",
        "3. Print the latitude of \"K2\" using the dictionary."
      ]
    },
    {
      "cell_type": "code",
      "execution_count": 69,
      "metadata": {
        "id": "npfGAOHRe1xP"
      },
      "outputs": [
        {
          "name": "stdout",
          "output_type": "stream",
          "text": [
            "List of Location Names: ['Mount Everest', 'K2', 'Kangchenjunga']\n",
            "Dictionary of Locations: {'Mount Everest': (27.9881, 86.925), 'K2': (35.8808, 76.5155), 'Kangchenjunga': (27.7025, 88.1475)}\n",
            "Latitude of K2: 35.8808\n"
          ]
        }
      ],
      "source": [
        "locations = [\n",
        "    (\"Mount Everest\", 27.9881, 86.9250),\n",
        "    (\"K2\", 35.8808, 76.5155),\n",
        "    (\"Kangchenjunga\", 27.7025, 88.1475),\n",
        "]\n",
        "\n",
        "# Create a new list that contains only the names of the location\n",
        "location_names = [location[0] for location in locations]\n",
        "\n",
        "# Next, create a dictionary where the keys are location names and the values are teh coordinates \n",
        "location_dict = {location[0]: (location[1], location[2]) for location in locations}\n",
        "\n",
        "# Step 4: Print the latitude of \"K2\" using the dictionary\n",
        "k2_latitude = location_dict[\"K2\"][0]\n",
        "\n",
        "# Display results\n",
        "print(\"List of Location Names:\", location_names)\n",
        "print(\"Dictionary of Locations:\", location_dict)\n",
        "print(\"Latitude of K2:\", k2_latitude)\n"
      ]
    },
    {
      "cell_type": "markdown",
      "metadata": {
        "id": "X4AXb5kXe1xQ"
      },
      "source": [
        "## Exercise 11: Manipulating Geographic Location Strings\n",
        "\n",
        "- Create a string that represents the name of a geographic feature (e.g., `\"Amazon River\"`).\n",
        "- Convert the string to lowercase and then to uppercase.\n",
        "- Concatenate the string with the name of the country (e.g., `\"Brazil\"`) to create a full location name.\n",
        "- Repeat the string three times, separating each repetition with a dash (`-`)."
      ]
    },
    {
      "cell_type": "code",
      "execution_count": 70,
      "metadata": {
        "id": "a3aCJ4Ese1xQ"
      },
      "outputs": [
        {
          "name": "stdout",
          "output_type": "stream",
          "text": [
            "Lowercase: amazon river\n",
            "Uppercase: AMAZON RIVER\n",
            "Full Location: Amazon River , Brazil\n",
            "Repeated Geographic Feature: Amazon River - Amazon River - Amazon River\n"
          ]
        }
      ],
      "source": [
        "# Create a string that represents the name of a geographic feature\n",
        "geoFeat = \"Amazon River\"\n",
        "\n",
        "# Convert the string to lower and upper cases\n",
        "lower_geoFeat = geoFeat.lower()\n",
        "upper_geoFeat = geoFeat.upper()\n",
        "\n",
        "# Concatenate the string with the name of the country\n",
        "comp_loc = geoFeat + \" , Brazil\"\n",
        "\n",
        "# Repeat the string 3 times\n",
        "repeat_geoFeat = (geoFeat + \" - \") * 2 + geoFeat\n",
        "\n",
        "# Display results\n",
        "print(\"Lowercase:\", lower_geoFeat)\n",
        "print(\"Uppercase:\", upper_geoFeat)\n",
        "print(\"Full Location:\", comp_loc)\n",
        "print(\"Repeated Geographic Feature:\", repeat_geoFeat )\n",
        "\n"
      ]
    },
    {
      "cell_type": "markdown",
      "metadata": {
        "id": "Ij1Kiol9e1xQ"
      },
      "source": [
        "## Exercise 12: Extracting and Formatting Coordinates\n",
        "\n",
        "- Given a string with the format `\"latitude, longitude\"` (e.g., `\"40.7128N, 74.0060W\"`), extract the numeric values of latitude and longitude.\n",
        "- Convert these values to floats and remove the directional indicators (`N`, `S`, `E`, `W`).\n",
        "- Format the coordinates into a `POINT` WKT string (e.g., `\"POINT(-74.0060 40.7128)\"`)."
      ]
    },
    {
      "cell_type": "code",
      "execution_count": 71,
      "metadata": {
        "id": "6PqxHlLne1xR"
      },
      "outputs": [
        {
          "name": "stdout",
          "output_type": "stream",
          "text": [
            "Extracted Latitude: 40.7128\n",
            "Extracted Longitude: -74.006\n",
            "Formatted WKT Point: POINT(-74.006 40.7128)\n"
          ]
        }
      ],
      "source": [
        "import re\n",
        "\n",
        "# Given a coordinate string\n",
        "coordinate_str = \"40.7128N, 74.0060W\"\n",
        "\n",
        "# Extract numeric values and directional indicators using regex\n",
        "match = re.match(r\"([\\d\\.]+)([NS]),\\s*([\\d\\.]+)([EW])\", coordinate_str)\n",
        "if match:\n",
        "    latitude = float(match.group(1))\n",
        "    lat_dir = match.group(2)\n",
        "    longitude = float(match.group(3))\n",
        "    lon_dir = match.group(4)\n",
        "\n",
        "# Convert latitude and longitude based on direction\n",
        "    if lat_dir == \"S\":\n",
        "        latitude = -latitude\n",
        "    if lon_dir == \"W\":\n",
        "        longitude = -longitude\n",
        "\n",
        "# Format as a POINT WKT string\n",
        "    wkt_point = f\"POINT({longitude} {latitude})\"\n",
        "\n",
        "# Display results\n",
        "    print(\"Extracted Latitude:\", latitude)\n",
        "    print(\"Extracted Longitude:\", longitude)\n",
        "    print(\"Formatted WKT Point:\", wkt_point)\n",
        "else:\n",
        "    print(\"Invalid coordinate format.\")"
      ]
    },
    {
      "cell_type": "markdown",
      "metadata": {
        "id": "E4yamsdJe1xR"
      },
      "source": [
        "## Exercise 13: Building Dynamic SQL Queries\n",
        "\n",
        "- Given a table name and a condition, dynamically build an SQL query string.\n",
        "- Example: If `table_name = \"cities\"` and `condition = \"population > 1000000\"`, the query should be `\"SELECT * FROM cities WHERE population > 1000000;\"`.\n",
        "- Add additional conditions dynamically, like `AND` clauses."
      ]
    },
    {
      "cell_type": "code",
      "execution_count": 72,
      "metadata": {
        "id": "YQBof3SGe1xS"
      },
      "outputs": [
        {
          "name": "stdout",
          "output_type": "stream",
          "text": [
            "Generated SQL Query:\n",
            " SELECT * FROM cities WHEREpopulation > 1000000 AND area_sq_km > 500;\n"
          ]
        }
      ],
      "source": [
        "# First. define the table name and condition\n",
        "table_name = \"cities\"\n",
        "conditions = [\"population > 1000000\", \"area_sq_km > 500\"]  # Example additional condition\n",
        "\n",
        "# Next, construct the base SQL query\n",
        "sql_query = f\" SELECT * FROM {table_name}\"\n",
        "\n",
        "# Then, add conditions dynamically\n",
        "if conditions: \n",
        "    sql_query += \" WHERE\" + \" AND \".join(conditions)\n",
        "\n",
        "# Append to complete the query\n",
        "sql_query += \";\"\n",
        "\n",
        "# Display the dynamically generated SQL query\n",
        "print(\"Generated SQL Query:\")\n",
        "print(sql_query)\n",
        "\n"
      ]
    },
    {
      "cell_type": "markdown",
      "metadata": {
        "id": "LQskZ05je1xS"
      },
      "source": [
        "## Exercise 14: String Normalization and Cleaning\n",
        "\n",
        "- Given a list of city names with inconsistent formatting (e.g., `[\" new york \", \"Los ANGELES\", \"   CHICAGO\"]`), normalize the names by:\n",
        "  - Stripping any leading or trailing whitespace.\n",
        "  - Converting them to title case (e.g., `\"New York\"`, `\"Los Angeles\"`, `\"Chicago\"`).\n",
        "- Ensure that the output is a clean list of city names."
      ]
    },
    {
      "cell_type": "code",
      "execution_count": 73,
      "metadata": {
        "id": "UmkkxA4Ze1xS"
      },
      "outputs": [
        {
          "name": "stdout",
          "output_type": "stream",
          "text": [
            "Normalized City Names: ['New York', 'Los Angeles', 'Chicago']\n"
          ]
        }
      ],
      "source": [
        "# First, establish the dictionary list of city names with inconsistent formatting\n",
        "city_names = [\" new york \", \"Los ANGELES\", \"   CHICAGO\"]\n",
        "\n",
        "# Then, normalize city names\n",
        "normalized_cities = [city.strip().title() for city in city_names]\n",
        "\n",
        "# Print the cleaned list of city names\n",
        "print(\"Normalized City Names:\", normalized_cities)\n"
      ]
    },
    {
      "cell_type": "markdown",
      "metadata": {
        "id": "Px2QhaJ7e1xS"
      },
      "source": [
        "## Exercise 15: Parsing and Extracting Address Information\n",
        "\n",
        "- Given a string in the format `\"Street, City, Country\"` (e.g., `\"123 Main St, Springfield, USA\"`), write a function that parses the string into a dictionary with keys `street`, `city`, and `country`.\n",
        "- The function should return a dictionary like `{\"street\": \"123 Main St\", \"city\": \"Springfield\", \"country\": \"USA\"}`."
      ]
    },
    {
      "cell_type": "code",
      "execution_count": 74,
      "metadata": {
        "id": "gkNz_pB9e1xS"
      },
      "outputs": [
        {
          "ename": "IndentationError",
          "evalue": "expected an indented block after function definition on line 2 (2848430643.py, line 6)",
          "output_type": "error",
          "traceback": [
            "  \u001b[36mCell\u001b[39m\u001b[36m \u001b[39m\u001b[32mIn[74]\u001b[39m\u001b[32m, line 6\u001b[39m\n\u001b[31m    \u001b[39m\u001b[31mif lens(parts) !=3:\u001b[39m\n    ^\n\u001b[31mIndentationError\u001b[39m\u001b[31m:\u001b[39m expected an indented block after function definition on line 2\n"
          ]
        }
      ],
      "source": [
        "# First, define the function to parse the address string\n",
        "def parse_address(address_str):\n",
        "    # Then split the string by commas and strip spaces\n",
        "\n",
        "# Now, verify there are exactly 3 parts\n",
        "if lens(parts) !=3:\n",
        "    raise ValueError(\"Address format should be 'Street, City, Country' \")\n",
        "\n",
        "# Next, create the dictionary\n",
        "address_dict = {\n",
        "        \"street\": parts[0],\n",
        "        \"city\": parts[1],\n",
        "        \"country\": parts[2]\n",
        "    }\n",
        "\n",
        "    return address_dict\n",
        "\n",
        "# Example usage\n",
        "address = \"123 Main St, Springfield, USA\"\n",
        "parsed_address = parse_address(address)\n",
        "\n",
        "# Display result\n",
        "print(\"Parsed Address Dictionary:\", parsed_address)\n"
      ]
    },
    {
      "cell_type": "markdown",
      "metadata": {
        "id": "yL-zPeYEe1xS"
      },
      "source": [
        "## Exercise 16: Using For Loops to Process Coordinate Lists\n",
        "\n",
        "- Create a list of tuples representing coordinates (latitude, longitude).\n",
        "- Write a `for` loop that prints each coordinate and indicates whether it is in the Northern or Southern Hemisphere based on the latitude."
      ]
    },
    {
      "cell_type": "code",
      "execution_count": null,
      "metadata": {
        "id": "oHBPRdqUe1xS"
      },
      "outputs": [
        {
          "name": "stdout",
          "output_type": "stream",
          "text": [
            "Coordinate: (40.7128, -74.006) - Northern Hemisphere\n",
            "Coordinate: (-33.8688, 151.2093) - Southern Hemisphere\n",
            "Coordinate: (51.5074, -0.1278) - Northern Hemisphere\n",
            "Coordinate: (-23.5505, -46.6333) - Southern Hemisphere\n",
            "Coordinate: (35.6895, 139.6917) - Northern Hemisphere\n"
          ]
        }
      ],
      "source": [
        "# First, create a list of tuples representing coordinates (latitude, longitude)\n",
        "coordinates = [\n",
        "    (40.7128, -74.0060),  # New York City\n",
        "    (-33.8688, 151.2093),  # Sydney\n",
        "    (51.5074, -0.1278),    # London\n",
        "    (-23.5505, -46.6333),  # São Paulo\n",
        "    (35.6895, 139.6917)    # Tokyo\n",
        "]\n",
        "\n",
        "# Next, loop through the list and determine the hemisphere\n",
        "for lat, lon in coordinates:\n",
        "    hemisphere = \"Northern Hemisphere\" if lat >= 0 else \"Southern Hemisphere\"\n",
        "    print(f\"Coordinate: ({lat}, {lon}) - {hemisphere}\")\n"
      ]
    },
    {
      "cell_type": "markdown",
      "metadata": {
        "id": "pczEARIHe1xS"
      },
      "source": [
        "## Exercise 17: While Loops for Iterative Processing\n",
        "\n",
        "- Create a list of coordinates (latitude, longitude).\n",
        "- Write a `while` loop that continues to print each coordinate until it encounters a coordinate with a negative latitude.\n",
        "- Stop the loop once this condition is met."
      ]
    },
    {
      "cell_type": "code",
      "execution_count": null,
      "metadata": {
        "id": "ykDtVtvGe1xT"
      },
      "outputs": [
        {
          "name": "stdout",
          "output_type": "stream",
          "text": [
            "Coordinate: (40.7128, -74.006)\n",
            "Coordinate: (51.5074, -0.1278)\n",
            "Coordinate: (35.6895, 139.6917)\n"
          ]
        }
      ],
      "source": [
        "# First, create a list of tuples representing coordinates (latitude, longitude)\n",
        "coordinates = [\n",
        "    (40.7128, -74.0060),  # New York City\n",
        "    (51.5074, -0.1278),   # London\n",
        "    (35.6895, 139.6917),  # Tokyo\n",
        "    (-33.8688, 151.2093), # Sydney (First negative latitude, loop stops here)\n",
        "    (34.0522, -118.2437)  # Los Angeles (Not printed due to loop stopping)\n",
        "]\n",
        "\n",
        "# The, initialize the index\n",
        "index = 0\n",
        "\n",
        "# Step 3: Use a while loop to iterate through coordinates\n",
        "while index < len(coordinates):\n",
        "    lat, lon = coordinates[index]\n",
        "    \n",
        "    # Stop if a negative latitude is encountered\n",
        "    if lat < 0:\n",
        "        break\n",
        "    \n",
        "    print(f\"Coordinate: ({lat}, {lon})\")\n",
        "    \n",
        "    # Increment index\n",
        "    index += 1\n"
      ]
    },
    {
      "cell_type": "markdown",
      "metadata": {
        "id": "ebqzd-cwe1xT"
      },
      "source": [
        "## Exercise 18: Conditional Logic in Loops\n",
        "\n",
        "- Create a list of coordinates and use a `for` loop to iterate over them.\n",
        "- Use an `if-elif-else` statement inside the loop to classify each coordinate based on its longitude:\n",
        "  - Print `\"Eastern Hemisphere\"` if the longitude is greater than 0.\n",
        "  - Print `\"Western Hemisphere\"` if the longitude is less than 0."
      ]
    },
    {
      "cell_type": "code",
      "execution_count": null,
      "metadata": {
        "id": "X9Gvbi1qe1xT"
      },
      "outputs": [
        {
          "name": "stdout",
          "output_type": "stream",
          "text": [
            "Coordinate: (40.7128, -74.006) - Western Hemisphere\n",
            "Coordinate: (51.5074, -0.1278) - Western Hemisphere\n",
            "Coordinate: (35.6895, 139.6917) - Eastern Hemisphere\n",
            "Coordinate: (-33.8688, 151.2093) - Eastern Hemisphere\n",
            "Coordinate: (48.8566, 2.3522) - Eastern Hemisphere\n"
          ]
        }
      ],
      "source": [
        "# First, create a list of tuples representing coordinates (latitude, longitude)\n",
        "coordinates = [\n",
        "    (40.7128, -74.0060),  # New York City (Western Hemisphere)\n",
        "    (51.5074, -0.1278),   # London (Western Hemisphere, close to Prime Meridian)\n",
        "    (35.6895, 139.6917),  # Tokyo (Eastern Hemisphere)\n",
        "    (-33.8688, 151.2093), # Sydney (Eastern Hemisphere)\n",
        "    (48.8566, 2.3522)     # Paris (Eastern Hemisphere)\n",
        "]\n",
        "\n",
        "# Then, iterate over coordinates and classify by longitude\n",
        "for lat, lon in coordinates:\n",
        "    if lon > 0:\n",
        "        hemisphere = \"Eastern Hemisphere\"\n",
        "    elif lon < 0:\n",
        "        hemisphere = \"Western Hemisphere\"\n",
        "    else:\n",
        "        hemisphere = \"On the Prime Meridian\"\n",
        "    \n",
        "    print(f\"Coordinate: ({lat}, {lon}) - {hemisphere}\")\n"
      ]
    },
    {
      "cell_type": "markdown",
      "metadata": {
        "id": "cm4qRcsle1xT"
      },
      "source": [
        "## Exercise 19: Filtering Data with Combined Loops and Conditionals\n",
        "\n",
        "- Given a list of coordinates, filter out and store only those located in the Southern Hemisphere (latitude < 0).\n",
        "- Count the number of coordinates that meet this condition and print the result."
      ]
    },
    {
      "cell_type": "code",
      "execution_count": null,
      "metadata": {
        "id": "PZ6l5N9_e1xT"
      },
      "outputs": [
        {
          "name": "stdout",
          "output_type": "stream",
          "text": [
            "Coordinates in the Southern Hemisphere: [(-33.8688, 151.2093), (-23.5505, -46.6333), (-34.6037, -58.3816)]\n",
            "Number of locations in the Southern Hemisphere: 3\n"
          ]
        }
      ],
      "source": [
        "# First, define a list of coordinates (latitude, longitude)\n",
        "coordinates = [\n",
        "    (40.7128, -74.0060),  # New York City (Northern Hemisphere)\n",
        "    (51.5074, -0.1278),   # London (Northern Hemisphere)\n",
        "    (-33.8688, 151.2093), # Sydney (Southern Hemisphere)\n",
        "    (-23.5505, -46.6333), # São Paulo (Southern Hemisphere)\n",
        "    (35.6895, 139.6917),  # Tokyo (Northern Hemisphere)\n",
        "    (-34.6037, -58.3816)  # Buenos Aires (Southern Hemisphere)\n",
        "]\n",
        "\n",
        "# Next, create an empty list to store Southern Hemisphere coordinates\n",
        "southern_hemisphere = []\n",
        "\n",
        "# Then, use a for loop to iterate over the coordinates\n",
        "for lat, lon in coordinates:\n",
        "    if lat < 0:  # Check if the latitude is in the Southern Hemisphere\n",
        "        southern_hemisphere.append((lat, lon))  # Store the valid coordinate\n",
        "\n",
        "# Now, count the number of coordinates in the Southern Hemisphere\n",
        "num_southern = len(southern_hemisphere)\n",
        "\n",
        "# Finally, print the filtered coordinates and count\n",
        "print(\"Coordinates in the Southern Hemisphere:\", southern_hemisphere)\n",
        "print(\"Number of locations in the Southern Hemisphere:\", num_southern)\n"
      ]
    },
    {
      "cell_type": "markdown",
      "metadata": {
        "id": "KxDFvqHie1xU"
      },
      "source": [
        "## Exercise 20: Generating and Analyzing Random Coordinates\n",
        "\n",
        "- Write a program that generates random coordinates (latitude between [-90, 90] degrees and longitude between [-180, 180] degrees).\n",
        "- Use a `while` loop to keep generating coordinates until a pair with both latitude and longitude greater than 50 is generated.\n",
        "- Print each generated coordinate and the final coordinate that meets the condition."
      ]
    },
    {
      "cell_type": "code",
      "execution_count": null,
      "metadata": {
        "id": "pmAnUioqe1xU"
      },
      "outputs": [
        {
          "name": "stdout",
          "output_type": "stream",
          "text": [
            "Generated Coordinate: (15.154716184109617, 19.011717871289022)\n",
            "Generated Coordinate: (72.11281506453312, -116.76493752076526)\n",
            "Generated Coordinate: (-54.32524531608802, 56.092401136013365)\n",
            "Generated Coordinate: (-76.92803868317176, 144.4168070487052)\n",
            "Generated Coordinate: (37.28941376651869, -113.58127048303894)\n",
            "Generated Coordinate: (-40.10090761484889, -98.21168258372494)\n",
            "Generated Coordinate: (-8.740319497607118, 63.5905237128585)\n",
            "Generated Coordinate: (-65.74557814982202, 19.394193820482656)\n",
            "Generated Coordinate: (-52.10646402634959, 39.1305712050698)\n",
            "Generated Coordinate: (88.61742605321209, 24.99444418722362)\n",
            "Generated Coordinate: (83.23829444258286, 34.66185471943206)\n",
            "Generated Coordinate: (0.5177201308009671, -159.10711596901226)\n",
            "Generated Coordinate: (37.420962831083685, 59.61431626477639)\n",
            "Generated Coordinate: (-60.9353526954566, -27.628765709883083)\n",
            "Generated Coordinate: (88.547142566356, -168.7016499813999)\n",
            "Generated Coordinate: (21.75036627850946, -65.5937001393223)\n",
            "Generated Coordinate: (-78.31323410252517, 10.425515829044798)\n",
            "Generated Coordinate: (-36.74584659073591, -12.489678316572991)\n",
            "Generated Coordinate: (-41.87555485580779, -155.76344642697615)\n",
            "Generated Coordinate: (-37.06081479696404, 18.997060955536938)\n",
            "Generated Coordinate: (74.90978662400394, -103.83197066957388)\n",
            "Generated Coordinate: (10.249869554520188, 49.3398757090703)\n",
            "Generated Coordinate: (24.154743180929543, -13.198359149979012)\n",
            "Generated Coordinate: (-76.27444435727818, 8.333660524677896)\n",
            "Generated Coordinate: (-31.45987819907358, -102.37365038182313)\n",
            "Generated Coordinate: (-22.186259724227668, 34.90675815567434)\n",
            "Generated Coordinate: (-44.34903525387105, -41.02974124907456)\n",
            "Generated Coordinate: (86.29874631081961, -79.80306415307172)\n",
            "Generated Coordinate: (54.47010730932138, -154.55855818050216)\n",
            "Generated Coordinate: (87.74696103665318, -54.93182063864815)\n",
            "Generated Coordinate: (32.858256324860236, 1.6813600102661326)\n",
            "Generated Coordinate: (-44.574154466282735, 142.73526691807598)\n",
            "Generated Coordinate: (17.484967630307068, -131.8343031024308)\n",
            "Generated Coordinate: (-27.964942073897333, -36.84220335510406)\n",
            "Generated Coordinate: (54.59394697135278, -149.7602240189222)\n",
            "Generated Coordinate: (-48.76870593962712, -87.48656301288635)\n",
            "Generated Coordinate: (-15.929532660527883, -93.36128049340438)\n",
            "Generated Coordinate: (-85.01054973257695, -137.89613220410521)\n",
            "Generated Coordinate: (-82.97862502654242, 174.1867422324642)\n",
            "Generated Coordinate: (49.10178998013268, 154.35417136565826)\n",
            "Generated Coordinate: (-37.05487404952314, 118.87475943962312)\n",
            "Generated Coordinate: (-5.691448293318686, -136.4668504571377)\n",
            "Generated Coordinate: (-53.34900058253868, 105.08599471546165)\n",
            "Generated Coordinate: (30.52882619395139, -111.54445247418818)\n",
            "Generated Coordinate: (12.801224213340745, -44.88073346452313)\n",
            "Generated Coordinate: (-23.343530505331685, 54.42996213678589)\n",
            "Generated Coordinate: (-84.52902886502844, -125.77618180457196)\n",
            "Generated Coordinate: (-41.24279280882793, 121.40027282384443)\n",
            "Generated Coordinate: (0.5042394928275087, -142.99057226006872)\n",
            "Generated Coordinate: (-32.32298860295348, -111.65990954790635)\n",
            "Generated Coordinate: (44.845355985316814, 47.84023283865562)\n",
            "Generated Coordinate: (-65.1799591540296, -73.27677799705641)\n",
            "Generated Coordinate: (46.210911648024336, -168.93136245648225)\n",
            "Generated Coordinate: (15.29776670926114, 31.096718757214717)\n",
            "Generated Coordinate: (-62.46841297219253, 140.76778784412085)\n",
            "Generated Coordinate: (-85.37305865666778, 6.772328814643714)\n",
            "Generated Coordinate: (-86.25391005090835, -79.33159461704433)\n",
            "Generated Coordinate: (70.33659819392835, 34.426494185145145)\n",
            "Generated Coordinate: (-2.8655457481300743, -102.2727122788223)\n",
            "Generated Coordinate: (-37.05233745891736, -73.5287897710076)\n",
            "Generated Coordinate: (-60.288735219996, -102.27937237166633)\n",
            "Generated Coordinate: (38.23012614321837, -74.47972016375759)\n",
            "Generated Coordinate: (-77.35271144248895, -154.07392071161598)\n",
            "Generated Coordinate: (70.01778697058842, 157.1656565183385)\n",
            "\n",
            "Final Coordinate that Meets the Condition: (70.01778697058842, 157.1656565183385)\n"
          ]
        }
      ],
      "source": [
        "import random\n",
        "\n",
        "# Step 1: Function to generate a random coordinate\n",
        "def generate_random_coordinate():\n",
        "    latitude = random.uniform(-90, 90)  # Random latitude between -90 and 90\n",
        "    longitude = random.uniform(-180, 180)  # Random longitude between -180 and 180\n",
        "    return (latitude, longitude)\n",
        "\n",
        "# Step 2: Initialize variables\n",
        "found_coordinate = None\n",
        "\n",
        "# Step 3: Use a while loop to generate coordinates until both latitude and longitude are > 50\n",
        "while True:\n",
        "    coord = generate_random_coordinate()\n",
        "    print(f\"Generated Coordinate: {coord}\")\n",
        "    \n",
        "    # Step 4: Check if both latitude and longitude are greater than 50\n",
        "    if coord[0] > 50 and coord[1] > 50:\n",
        "        found_coordinate = coord\n",
        "        break\n",
        "\n",
        "# Step 5: Print the final coordinate that meets the condition\n",
        "print(\"\\nFinal Coordinate that Meets the Condition:\", found_coordinate)\n"
      ]
    },
    {
      "cell_type": "markdown",
      "metadata": {
        "id": "L9npJ_s7e1xU"
      },
      "source": [
        "## Submission Requirements\n",
        "\n",
        "Complete the exercises above and and upload the notebook to your GitHub repository. Make sure the notebook has a Colab badge at the top so that it can be easily opened in Google Colab. Submit the URL of the notebook to Canvas."
      ]
    }
  ],
  "metadata": {
    "colab": {
      "provenance": []
    },
    "kernelspec": {
      "display_name": "geo",
      "language": "python",
      "name": "python3"
    },
    "language_info": {
      "codemirror_mode": {
        "name": "ipython",
        "version": 3
      },
      "file_extension": ".py",
      "mimetype": "text/x-python",
      "name": "python",
      "nbconvert_exporter": "python",
      "pygments_lexer": "ipython3",
      "version": "3.12.9"
    }
  },
  "nbformat": 4,
  "nbformat_minor": 0
}
