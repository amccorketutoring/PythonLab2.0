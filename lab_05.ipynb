{
  "cells": [
    {
      "cell_type": "markdown",
      "id": "0",
      "metadata": {
        "id": "0"
      },
      "source": [
        "# Lab 5\n",
        "\n",
        "[![Open In Colab](https://colab.research.google.com/assets/colab-badge.svg)](https://colab.research.google.com/notebooks/basic_features_overview.ipynb)\n",
        "\n",
        "## Exercise 1: Calculating Distances with Functions\n",
        "\n",
        "- Define a function `calculate_distance` that takes two geographic coordinates (latitude and longitude) and returns the distance between them using the Haversine formula.\n",
        "- Use this function to calculate the distance between multiple pairs of coordinates."
      ]
    },
    {
      "cell_type": "code",
      "execution_count": 2,
      "id": "1",
      "metadata": {
        "id": "1"
      },
      "outputs": [
        {
          "name": "stdout",
          "output_type": "stream",
          "text": [
            "Distance between (40.7128, -74.006) and (34.0522, -118.2437): 3940.07 km\n",
            "Distance between (51.5074, -0.1278) and (48.8566, 2.3522): 343.93 km\n",
            "Distance between (35.6895, 139.6917) and (37.7749, -122.4194): 8279.80 km\n"
          ]
        }
      ],
      "source": [
        "import math\n",
        "\n",
        "# First, define the function to calculate distance using the Haversine formula\n",
        "def calculate_distance(coord1, coord2):\n",
        "    \"\"\"\n",
        "    Calculate the great-circle distance between two points on the Earth \n",
        "    using the Haversine formula.\n",
        "    \n",
        "    Parameters:\n",
        "    coord1 (tuple): (latitude, longitude) of first point\n",
        "    coord2 (tuple): (latitude, longitude) of second point\n",
        "    \n",
        "    Returns:\n",
        "    float: Distance in kilometers\n",
        "    \"\"\"\n",
        "    # Radius of Earth in kilometers according to NASA\n",
        "    R = 6378.0  \n",
        "\n",
        "    # Convert latitude and longitude from degrees to radians\n",
        "    lat1, lon1 = math.radians(coord1[0]), math.radians(coord1[1])\n",
        "    lat2, lon2 = math.radians(coord2[0]), math.radians(coord2[1])\n",
        "\n",
        "    # Haversine formula\n",
        "    dlat = lat2 - lat1\n",
        "    dlon = lon2 - lon1\n",
        "    a = math.sin(dlat / 2)**2 + math.cos(lat1) * math.cos(lat2) * math.sin(dlon / 2)**2\n",
        "    c = 2 * math.atan2(math.sqrt(a), math.sqrt(1 - a))\n",
        "\n",
        "    # Compute the distance\n",
        "    distance = R * c\n",
        "    return distance\n",
        "\n",
        "# Next, define multiple pairs of coordinates\n",
        "coordinates_pairs = [\n",
        "    ((40.7128, -74.0060), (34.0522, -118.2437)),  # New York to Los Angeles\n",
        "    ((51.5074, -0.1278), (48.8566, 2.3522)),      # London to Paris\n",
        "    ((35.6895, 139.6917), (37.7749, -122.4194)),  # Tokyo to San Francisco\n",
        "]\n",
        "\n",
        "# Finally, calculate and print distances for each pair\n",
        "for pair in coordinates_pairs:\n",
        "    distance = calculate_distance(pair[0], pair[1])\n",
        "    print(f\"Distance between {pair[0]} and {pair[1]}: {distance:.2f} km\")\n"
      ]
    },
    {
      "cell_type": "markdown",
      "id": "2",
      "metadata": {
        "id": "2"
      },
      "source": [
        "## Exercise 2: Batch Distance Calculation\n",
        "\n",
        "- Create a function `batch_distance_calculation` that accepts a list of coordinate pairs and returns a list of distances between consecutive pairs.\n",
        "- Test the function with a list of coordinates representing several cities."
      ]
    },
    {
      "cell_type": "code",
      "execution_count": null,
      "id": "3",
      "metadata": {
        "id": "3"
      },
      "outputs": [],
      "source": [
        "# Step 1: Define the batch distance calculation function\n",
        "def batch_distance_calculation(coord_list):\n",
        "    \"\"\"\n",
        "    Calculate distances between consecutive coordinate pairs in a list using the Haversine formula.\n",
        "    \n",
        "    Parameters:\n",
        "    coord_list (list of tuples): List of geographic coordinates (latitude, longitude).\n",
        "    \n",
        "    Returns:\n",
        "    list: List of distances (in kilometers) between consecutive coordinate pairs.\n",
        "    \"\"\"\n",
        "    distances = []\n",
        "    \n",
        "    # Iterate through consecutive pairs in the list\n",
        "    for i in range(len(coord_list) - 1):\n",
        "        distance = calculate_distance(coord_list[i], coord_list[i + 1])\n",
        "        distances.append(distance)\n",
        "    \n",
        "    return distances\n",
        "\n",
        "# Step 2: Define a list of coordinates representing cities\n",
        "city_coordinates = [\n",
        "    (40.7128, -74.0060),  # New York City\n",
        "    (34.0522, -118.2437), # Los Angeles\n",
        "    (41.8781, -87.6298),  # Chicago\n",
        "    (29.7604, -95.3698),  # Houston\n",
        "    (48.8566, 2.3522),    # Paris\n",
        "]\n",
        "\n",
        "# Step 3: Call the function and store results\n",
        "distances_between_cities = batch_distance_calculation(city_coordinates)\n",
        "\n",
        "# Step 4: Print the distances between consecutive city pairs\n",
        "for i in range(len(city_coordinates) - 1):\n",
        "    print(f\"Distance from {city_coordinates[i]} to {city_coordinates[i+1]}: {distances_between_cities[i]:.2f} km\")\n"
      ]
    },
    {
      "cell_type": "markdown",
      "id": "4",
      "metadata": {
        "id": "4"
      },
      "source": [
        "## Exercise 3: Creating and Using a Point Class\n",
        "\n",
        "- Define a `Point` class to represent a geographic point with attributes `latitude`, `longitude`, and `name`.\n",
        "- Add a method `distance_to` that calculates the distance from one point to another.\n",
        "- Instantiate several `Point` objects and calculate the distance between them."
      ]
    },
    {
      "cell_type": "code",
      "execution_count": null,
      "id": "5",
      "metadata": {
        "id": "5"
      },
      "outputs": [
        {
          "name": "stdout",
          "output_type": "stream",
          "text": [
            "Distance from New York City to Los Angeles: 3935.75 km\n",
            "Distance from New York City to Paris: 5837.24 km\n",
            "Distance from Los Angeles to Paris: 9085.51 km\n"
          ]
        }
      ],
      "source": [
        "import math\n",
        "\n",
        "# First, Define the Point class\n",
        "class Point:\n",
        "    def __init__(self, name, latitude, longitude):\n",
        "        self.name = name\n",
        "        self.latitude = latitude\n",
        "        self.longitude = longitude\n",
        "\n",
        "# Then, Define a method to calculate the distance to another Point using the Haversine formula\n",
        "    def distance_to(self, other_point):\n",
        "        R = 6371.0  # Radius of the Earth in kilometers\n",
        "\n",
        "        # Convert latitude and longitude from degrees to radians\n",
        "        lat1 = math.radians(self.latitude)\n",
        "        lon1 = math.radians(self.longitude)\n",
        "        lat2 = math.radians(other_point.latitude)\n",
        "        lon2 = math.radians(other_point.longitude)\n",
        "\n",
        "        # Haversine formula\n",
        "        dlat = lat2 - lat1\n",
        "        dlon = lon2 - lon1\n",
        "        a = math.sin(dlat / 2)**2 + math.cos(lat1) * math.cos(lat2) * math.sin(dlon / 2)**2\n",
        "        c = 2 * math.atan2(math.sqrt(a), math.sqrt(1 - a))\n",
        "        distance = R * c\n",
        "\n",
        "        return distance\n",
        "\n",
        "# Next, several Point objects\n",
        "point1 = Point(\"New York City\", 40.7128, -74.0060)\n",
        "point2 = Point(\"Los Angeles\", 34.0522, -118.2437)\n",
        "point3 = Point(\"Paris\", 48.8566, 2.3522)\n",
        "\n",
        "# Calculate and print distance between the points \n",
        "print(f\"Distance from {point1.name} to {point2.name}: {point1.distance_to(point2):.2f} km\")\n",
        "print(f\"Distance from {point1.name} to {point3.name}: {point1.distance_to(point3):.2f} km\")\n",
        "print(f\"Distance from {point2.name} to {point3.name}: {point2.distance_to(point3):.2f} km\")\n"
      ]
    },
    {
      "cell_type": "markdown",
      "id": "6",
      "metadata": {
        "id": "6"
      },
      "source": [
        "## Exercise 4: Reading and Writing Files\n",
        "\n",
        "- Write a function `read_coordinates` that reads a file containing a list of coordinates (latitude, longitude) and returns them as a list of tuples.\n",
        "- Write another function `write_coordinates` that takes a list of coordinates and writes them to a new file.\n",
        "- Ensure that both functions handle exceptions, such as missing files or improperly formatted data."
      ]
    },
    {
      "cell_type": "code",
      "execution_count": 4,
      "id": "7",
      "metadata": {
        "id": "7"
      },
      "outputs": [
        {
          "name": "stdout",
          "output_type": "stream",
          "text": [
            "Error writing to file: [Errno 2] No such file or directory: '/mnt/data/sample_coords.txt'\n",
            "Error: File not found - /mnt/data/sample_coords.txt\n"
          ]
        },
        {
          "data": {
            "text/plain": [
              "[]"
            ]
          },
          "execution_count": 4,
          "metadata": {},
          "output_type": "execute_result"
        }
      ],
      "source": [
        "import os\n",
        "\n",
        "# Function to read coordinates from a file and return a list of tuples\n",
        "def read_coordinates(file_path):\n",
        "    coordinates = []\n",
        "    try:\n",
        "        with open(file_path, 'r') as file:\n",
        "            for line in file:\n",
        "                try:\n",
        "                    lat, lon = map(float, line.strip().split(','))\n",
        "                    coordinates.append((lat, lon))\n",
        "                except ValueError:\n",
        "                    print(f\"Skipping malformed line: {line.strip()}\")\n",
        "    except FileNotFoundError:\n",
        "        print(f\"Error: File not found - {file_path}\")\n",
        "    return coordinates\n",
        "\n",
        "# Function to write a list of coordinate tuples to a file\n",
        "def write_coordinates(file_path, coordinates):\n",
        "    try:\n",
        "        with open(file_path, 'w') as file:\n",
        "            for lat, lon in coordinates:\n",
        "                file.write(f\"{lat},{lon}\\n\")\n",
        "    except Exception as e:\n",
        "        print(f\"Error writing to file: {e}\")\n",
        "\n",
        "# Test the functions with sample data (write first, then read)\n",
        "sample_coords = [(40.7128, -74.0060), (34.0522, -118.2437), (48.8566, 2.3522)]\n",
        "write_path = \"/mnt/data/sample_coords.txt\"\n",
        "\n",
        "# Write coordinates to file\n",
        "write_coordinates(write_path, sample_coords)\n",
        "\n",
        "# Read coodinates from the file\n",
        "read_coords = read_coordinates(write_path)\n",
        "read_coords\n"
      ]
    },
    {
      "cell_type": "markdown",
      "id": "8",
      "metadata": {
        "id": "8"
      },
      "source": [
        "## Exercise 5: Processing Coordinates from a File\n",
        "\n",
        "- Create a function that reads coordinates from a file and uses the `Point` class to create `Point` objects.\n",
        "- Calculate the distance between each consecutive pair of points and write the results to a new file.\n",
        "- Ensure the function handles file-related exceptions and gracefully handles improperly formatted lines."
      ]
    },
    {
      "cell_type": "code",
      "execution_count": 7,
      "id": "9",
      "metadata": {
        "id": "9"
      },
      "outputs": [
        {
          "name": "stdout",
          "output_type": "stream",
          "text": [
            "Sample file 'coordinates.txt' has been created successfully.\n"
          ]
        }
      ],
      "source": [
        "# Create a sample coordinates.txt file\n",
        "sample_data = \"\"\"35.6895,139.6917\n",
        "34.0522,-118.2437\n",
        "51.5074,-0.1278\n",
        "-33.8688,151.2093\n",
        "48.8566,2.3522\"\"\"\n",
        "\n",
        "output_file = \"coordinates.txt\"\n",
        "\n",
        "try:\n",
        "    with open(output_file, \"w\") as file:\n",
        "        file.write(sample_data)\n",
        "    print(f\"Sample file '{output_file}' has been created successfully.\")\n",
        "except Exception as e:\n",
        "    print(f\"An error occurred while creating the file: {e}\")\n",
        "\n"
      ]
    },
    {
      "cell_type": "code",
      "execution_count": 8,
      "id": "10",
      "metadata": {
        "id": "10"
      },
      "outputs": [
        {
          "name": "stdout",
          "output_type": "stream",
          "text": [
            "An error occurred while creating the file: [Errno 2] No such file or directory: '/mnt/data/coordinates.txt'\n",
            "File not found: /mnt/data/coordinates.txt\n"
          ]
        },
        {
          "ename": "FileNotFoundError",
          "evalue": "[Errno 2] No such file or directory: '/mnt/data/output_distances.txt'",
          "output_type": "error",
          "traceback": [
            "\u001b[31m---------------------------------------------------------------------------\u001b[39m",
            "\u001b[31mFileNotFoundError\u001b[39m                         Traceback (most recent call last)",
            "\u001b[36mCell\u001b[39m\u001b[36m \u001b[39m\u001b[32mIn[8]\u001b[39m\u001b[32m, line 70\u001b[39m\n\u001b[32m     67\u001b[39m process_points_from_file(input_file_path, output_file_path)\n\u001b[32m     69\u001b[39m \u001b[38;5;66;03m# Show the output file content\u001b[39;00m\n\u001b[32m---> \u001b[39m\u001b[32m70\u001b[39m \u001b[38;5;28;01mwith\u001b[39;00m \u001b[38;5;28;43mopen\u001b[39;49m\u001b[43m(\u001b[49m\u001b[43moutput_file_path\u001b[49m\u001b[43m,\u001b[49m\u001b[43m \u001b[49m\u001b[33;43m'\u001b[39;49m\u001b[33;43mr\u001b[39;49m\u001b[33;43m'\u001b[39;49m\u001b[43m)\u001b[49m \u001b[38;5;28;01mas\u001b[39;00m result_file:\n\u001b[32m     71\u001b[39m     output_lines = result_file.readlines()\n\u001b[32m     72\u001b[39m output_lines\n",
            "\u001b[36mFile \u001b[39m\u001b[32mc:\\Users\\Alex\\miniconda3\\envs\\geo\\Lib\\site-packages\\IPython\\core\\interactiveshell.py:325\u001b[39m, in \u001b[36m_modified_open\u001b[39m\u001b[34m(file, *args, **kwargs)\u001b[39m\n\u001b[32m    318\u001b[39m \u001b[38;5;28;01mif\u001b[39;00m file \u001b[38;5;129;01min\u001b[39;00m {\u001b[32m0\u001b[39m, \u001b[32m1\u001b[39m, \u001b[32m2\u001b[39m}:\n\u001b[32m    319\u001b[39m     \u001b[38;5;28;01mraise\u001b[39;00m \u001b[38;5;167;01mValueError\u001b[39;00m(\n\u001b[32m    320\u001b[39m         \u001b[33mf\u001b[39m\u001b[33m\"\u001b[39m\u001b[33mIPython won\u001b[39m\u001b[33m'\u001b[39m\u001b[33mt let you open fd=\u001b[39m\u001b[38;5;132;01m{\u001b[39;00mfile\u001b[38;5;132;01m}\u001b[39;00m\u001b[33m by default \u001b[39m\u001b[33m\"\u001b[39m\n\u001b[32m    321\u001b[39m         \u001b[33m\"\u001b[39m\u001b[33mas it is likely to crash IPython. If you know what you are doing, \u001b[39m\u001b[33m\"\u001b[39m\n\u001b[32m    322\u001b[39m         \u001b[33m\"\u001b[39m\u001b[33myou can use builtins\u001b[39m\u001b[33m'\u001b[39m\u001b[33m open.\u001b[39m\u001b[33m\"\u001b[39m\n\u001b[32m    323\u001b[39m     )\n\u001b[32m--> \u001b[39m\u001b[32m325\u001b[39m \u001b[38;5;28;01mreturn\u001b[39;00m \u001b[43mio_open\u001b[49m\u001b[43m(\u001b[49m\u001b[43mfile\u001b[49m\u001b[43m,\u001b[49m\u001b[43m \u001b[49m\u001b[43m*\u001b[49m\u001b[43margs\u001b[49m\u001b[43m,\u001b[49m\u001b[43m \u001b[49m\u001b[43m*\u001b[49m\u001b[43m*\u001b[49m\u001b[43mkwargs\u001b[49m\u001b[43m)\u001b[49m\n",
            "\u001b[31mFileNotFoundError\u001b[39m: [Errno 2] No such file or directory: '/mnt/data/output_distances.txt'"
          ]
        }
      ],
      "source": [
        "import math\n",
        "\n",
        "# Define the Point class\n",
        "class Point:\n",
        "    def __init__(self, name, latitude, longitude):\n",
        "        self.name = name\n",
        "        self.latitude = latitude\n",
        "        self.longitude = longitude\n",
        "\n",
        "    def distance_to(self, other_point):\n",
        "        R = 6371.0  # Earth radius in kilometers\n",
        "        lat1 = math.radians(self.latitude)\n",
        "        lon1 = math.radians(self.longitude)\n",
        "        lat2 = math.radians(other_point.latitude)\n",
        "        lon2 = math.radians(other_point.longitude)\n",
        "        dlat = lat2 - lat1\n",
        "        dlon = lon2 - lon1\n",
        "        a = math.sin(dlat / 2)**2 + math.cos(lat1) * math.cos(lat2) * math.sin(dlon / 2)**2\n",
        "        c = 2 * math.atan2(math.sqrt(a), math.sqrt(1 - a))\n",
        "        return R * c\n",
        "\n",
        "# Function to read from a file and process distances between consecutive points\n",
        "def process_points_from_file(input_file, output_file):\n",
        "    points = []\n",
        "    try:\n",
        "        with open(input_file, 'r') as file:\n",
        "            for index, line in enumerate(file.readlines()):\n",
        "                try:\n",
        "                    lat, lon = map(float, line.strip().split(','))\n",
        "                    point = Point(f\"Point {index + 1}\", lat, lon)\n",
        "                    points.append(point)\n",
        "                except ValueError:\n",
        "                    print(f\"Skipping malformed line: {line.strip()}\")\n",
        "    except FileNotFoundError:\n",
        "        print(f\"File not found: {input_file}\")\n",
        "        return\n",
        "\n",
        "    # Calculate distances between consecutive points and write to output file\n",
        "    try:\n",
        "        with open(output_file, 'w') as out_file:\n",
        "            for i in range(len(points) - 1):\n",
        "                p1 = points[i]\n",
        "                p2 = points[i + 1]\n",
        "                distance = p1.distance_to(p2)\n",
        "                out_file.write(f\"Distance from {p1.name} to {p2.name}: {distance:.2f} km\\n\")\n",
        "    except Exception as e:\n",
        "        print(f\"An error occurred while writing to the output file: {e}\")\n",
        "\n",
        "# Create a sample coordinates.txt file\n",
        "sample_data = \"\"\"35.6895,139.6917\n",
        "34.0522,-118.2437\n",
        "51.5074,-0.1278\n",
        "-33.8688,151.2093\n",
        "48.8566,2.3522\"\"\"\n",
        "\n",
        "input_file_path = \"/mnt/data/coordinates.txt\"\n",
        "output_file_path = \"/mnt/data/output_distances.txt\"\n",
        "\n",
        "# Write the sample coordinates to a file\n",
        "try:\n",
        "    with open(input_file_path, \"w\") as file:\n",
        "        file.write(sample_data)\n",
        "except Exception as e:\n",
        "    print(f\"An error occurred while creating the file: {e}\")\n",
        "\n",
        "# Process the points and calculate distances\n",
        "process_points_from_file(input_file_path, output_file_path)\n",
        "\n",
        "# Show the output file content\n",
        "with open(output_file_path, 'r') as result_file:\n",
        "    output_lines = result_file.readlines()\n",
        "output_lines"
      ]
    },
    {
      "cell_type": "markdown",
      "id": "11",
      "metadata": {
        "id": "11"
      },
      "source": [
        "## Exercise 6: Exception Handling in Data Processing\n",
        "\n",
        "- Modify the `batch_distance_calculation` function to handle exceptions that might occur during the calculation, such as invalid coordinates.\n",
        "- Ensure the function skips invalid data and continues processing the remaining data."
      ]
    },
    {
      "cell_type": "code",
      "execution_count": 9,
      "id": "12",
      "metadata": {
        "id": "12"
      },
      "outputs": [
        {
          "data": {
            "text/plain": [
              "[3935.746254609723, 8755.602341157259, 343.55606034104153]"
            ]
          },
          "execution_count": 9,
          "metadata": {},
          "output_type": "execute_result"
        }
      ],
      "source": [
        "import math\n",
        "\n",
        "# Reuse the Haversine distance function\n",
        "def calculate_distance(coord1, coord2):\n",
        "    try:\n",
        "        # Radius of Earth in kilometers\n",
        "        R = 6371.0\n",
        "\n",
        "        # Convert latitude and longitude from degrees to radians\n",
        "        lat1, lon1 = math.radians(coord1[0]), math.radians(coord1[1])\n",
        "        lat2, lon2 = math.radians(coord2[0]), math.radians(coord2[1])\n",
        "\n",
        "        # Haversine formula\n",
        "        dlat = lat2 - lat1\n",
        "        dlon = lon2 - lon1\n",
        "        a = math.sin(dlat / 2)**2 + math.cos(lat1) * math.cos(lat2) * math.sin(dlon / 2)**2\n",
        "        c = 2 * math.atan2(math.sqrt(a), math.sqrt(1 - a))\n",
        "        return R * c\n",
        "    except Exception as e:\n",
        "        print(f\"Error calculating distance between {coord1} and {coord2}: {e}\")\n",
        "        return None\n",
        "\n",
        "# Modified function with exception handling\n",
        "def batch_distance_calculation(coord_list):\n",
        "    distances = []\n",
        "    for i in range(len(coord_list) - 1):\n",
        "        try:\n",
        "            distance = calculate_distance(coord_list[i], coord_list[i + 1])\n",
        "            if distance is not None:\n",
        "                distances.append(distance)\n",
        "        except Exception as e:\n",
        "            print(f\"Skipping pair {coord_list[i]} to {coord_list[i + 1]} due to error: {e}\")\n",
        "            continue\n",
        "    return distances\n",
        "\n",
        "# Test with a list containing valid and invalid data\n",
        "test_coordinates = [\n",
        "    (40.7128, -74.0060),   # New York\n",
        "    (34.0522, -118.2437),  # Los Angeles\n",
        "    \"Invalid\",             # Invalid entry\n",
        "    (51.5074, -0.1278),    # London\n",
        "    (None, 139.6917),      # Invalid latitude\n",
        "    (48.8566, 2.3522)      # Paris\n",
        "]\n",
        "\n",
        "# Clean the list by removing obviously invalid entries before processing\n",
        "clean_coords = [c for c in test_coordinates if isinstance(c, tuple) and len(c) == 2 and all(isinstance(val, (int, float)) for val in c)]\n",
        "\n",
        "# Run the modified batch distance calculation\n",
        "batch_distances = batch_distance_calculation(clean_coords)\n",
        "batch_distances\n"
      ]
    },
    {
      "cell_type": "markdown",
      "id": "13",
      "metadata": {
        "id": "13"
      },
      "source": [
        "## Exercise 7: NumPy Array Operations and Geospatial Coordinates\n",
        "\n",
        "In this exercise, you will work with NumPy arrays representing geospatial coordinates (latitude and longitude) and perform basic array operations.\n",
        "\n",
        "1. Create a 2D NumPy array containing the latitude and longitude of the following cities: Tokyo (35.6895, 139.6917), New York (40.7128, -74.0060), London (51.5074, -0.1278), and Paris (48.8566, 2.3522).\n",
        "2. Convert the latitude and longitude values from degrees to radians using np.radians().\n",
        "3. Calculate the element-wise difference between Tokyo and the other cities' latitude and longitude in radians."
      ]
    },
    {
      "cell_type": "code",
      "execution_count": 10,
      "id": "14",
      "metadata": {
        "id": "14"
      },
      "outputs": [
        {
          "data": {
            "text/plain": [
              "{'Cities in Radians': array([[ 6.22899283e-01,  2.43808010e+00],\n",
              "        [ 7.10572408e-01, -1.29164837e+00],\n",
              "        [ 8.98973719e-01, -2.23053078e-03],\n",
              "        [ 8.52708531e-01,  4.10536347e-02]]),\n",
              " 'Difference from Tokyo (in radians)': array([[ 0.08767312, -3.72972847],\n",
              "        [ 0.27607444, -2.44031063],\n",
              "        [ 0.22980925, -2.39702647]])}"
            ]
          },
          "execution_count": 10,
          "metadata": {},
          "output_type": "execute_result"
        }
      ],
      "source": [
        "import numpy as np\n",
        "\n",
        "# Step 1: Create a 2D NumPy array of city coordinates (latitude, longitude)\n",
        "cities_deg = np.array([\n",
        "    [35.6895, 139.6917],   # Tokyo\n",
        "    [40.7128, -74.0060],   # New York\n",
        "    [51.5074, -0.1278],    # London\n",
        "    [48.8566, 2.3522]      # Paris\n",
        "])\n",
        "\n",
        "# Step 2: Convert the coordinates from degrees to radians\n",
        "cities_rad = np.radians(cities_deg)\n",
        "\n",
        "# Step 3: Calculate the element-wise difference in radians between Tokyo and the other cities\n",
        "# Tokyo is at index 0\n",
        "tokyo_rad = cities_rad[0]\n",
        "diff_from_tokyo = cities_rad[1:] - tokyo_rad  # Subtract Tokyo's lat/lon from the rest\n",
        "\n",
        "# Display results\n",
        "{\n",
        "    \"Cities in Radians\": cities_rad,\n",
        "    \"Difference from Tokyo (in radians)\": diff_from_tokyo\n",
        "}\n"
      ]
    },
    {
      "cell_type": "markdown",
      "id": "15",
      "metadata": {
        "id": "15"
      },
      "source": [
        "## Exercise 8: Pandas DataFrame Operations with Geospatial Data\n",
        "\n",
        "In this exercise, you'll use Pandas to load and manipulate a dataset containing city population data, and then calculate and visualize statistics.\n",
        "\n",
        "1. Load the world cities dataset from this URL using Pandas: https://github.com/opengeos/datasets/releases/download/world/world_cities.csv\n",
        "2. Display the first 5 rows and check for missing values.\n",
        "3. Filter the dataset to only include cities with a population greater than 1 million.\n",
        "4. Group the cities by their country and calculate the total population for each country.\n",
        "5. Sort the cities by population in descending order and display the top 10 cities."
      ]
    },
    {
      "cell_type": "code",
      "execution_count": 15,
      "id": "16",
      "metadata": {
        "id": "16"
      },
      "outputs": [
        {
          "ename": "URLError",
          "evalue": "<urlopen error [Errno 11001] getaddrinfo failed>",
          "output_type": "error",
          "traceback": [
            "\u001b[31m---------------------------------------------------------------------------\u001b[39m",
            "\u001b[31mgaierror\u001b[39m                                  Traceback (most recent call last)",
            "\u001b[36mFile \u001b[39m\u001b[32mc:\\Users\\Alex\\miniconda3\\envs\\geo\\Lib\\urllib\\request.py:1344\u001b[39m, in \u001b[36mAbstractHTTPHandler.do_open\u001b[39m\u001b[34m(self, http_class, req, **http_conn_args)\u001b[39m\n\u001b[32m   1343\u001b[39m \u001b[38;5;28;01mtry\u001b[39;00m:\n\u001b[32m-> \u001b[39m\u001b[32m1344\u001b[39m     \u001b[43mh\u001b[49m\u001b[43m.\u001b[49m\u001b[43mrequest\u001b[49m\u001b[43m(\u001b[49m\u001b[43mreq\u001b[49m\u001b[43m.\u001b[49m\u001b[43mget_method\u001b[49m\u001b[43m(\u001b[49m\u001b[43m)\u001b[49m\u001b[43m,\u001b[49m\u001b[43m \u001b[49m\u001b[43mreq\u001b[49m\u001b[43m.\u001b[49m\u001b[43mselector\u001b[49m\u001b[43m,\u001b[49m\u001b[43m \u001b[49m\u001b[43mreq\u001b[49m\u001b[43m.\u001b[49m\u001b[43mdata\u001b[49m\u001b[43m,\u001b[49m\u001b[43m \u001b[49m\u001b[43mheaders\u001b[49m\u001b[43m,\u001b[49m\n\u001b[32m   1345\u001b[39m \u001b[43m              \u001b[49m\u001b[43mencode_chunked\u001b[49m\u001b[43m=\u001b[49m\u001b[43mreq\u001b[49m\u001b[43m.\u001b[49m\u001b[43mhas_header\u001b[49m\u001b[43m(\u001b[49m\u001b[33;43m'\u001b[39;49m\u001b[33;43mTransfer-encoding\u001b[39;49m\u001b[33;43m'\u001b[39;49m\u001b[43m)\u001b[49m\u001b[43m)\u001b[49m\n\u001b[32m   1346\u001b[39m \u001b[38;5;28;01mexcept\u001b[39;00m \u001b[38;5;167;01mOSError\u001b[39;00m \u001b[38;5;28;01mas\u001b[39;00m err: \u001b[38;5;66;03m# timeout error\u001b[39;00m\n",
            "\u001b[36mFile \u001b[39m\u001b[32mc:\\Users\\Alex\\miniconda3\\envs\\geo\\Lib\\http\\client.py:1338\u001b[39m, in \u001b[36mHTTPConnection.request\u001b[39m\u001b[34m(self, method, url, body, headers, encode_chunked)\u001b[39m\n\u001b[32m   1337\u001b[39m \u001b[38;5;250m\u001b[39m\u001b[33;03m\"\"\"Send a complete request to the server.\"\"\"\u001b[39;00m\n\u001b[32m-> \u001b[39m\u001b[32m1338\u001b[39m \u001b[38;5;28;43mself\u001b[39;49m\u001b[43m.\u001b[49m\u001b[43m_send_request\u001b[49m\u001b[43m(\u001b[49m\u001b[43mmethod\u001b[49m\u001b[43m,\u001b[49m\u001b[43m \u001b[49m\u001b[43murl\u001b[49m\u001b[43m,\u001b[49m\u001b[43m \u001b[49m\u001b[43mbody\u001b[49m\u001b[43m,\u001b[49m\u001b[43m \u001b[49m\u001b[43mheaders\u001b[49m\u001b[43m,\u001b[49m\u001b[43m \u001b[49m\u001b[43mencode_chunked\u001b[49m\u001b[43m)\u001b[49m\n",
            "\u001b[36mFile \u001b[39m\u001b[32mc:\\Users\\Alex\\miniconda3\\envs\\geo\\Lib\\http\\client.py:1384\u001b[39m, in \u001b[36mHTTPConnection._send_request\u001b[39m\u001b[34m(self, method, url, body, headers, encode_chunked)\u001b[39m\n\u001b[32m   1383\u001b[39m     body = _encode(body, \u001b[33m'\u001b[39m\u001b[33mbody\u001b[39m\u001b[33m'\u001b[39m)\n\u001b[32m-> \u001b[39m\u001b[32m1384\u001b[39m \u001b[38;5;28;43mself\u001b[39;49m\u001b[43m.\u001b[49m\u001b[43mendheaders\u001b[49m\u001b[43m(\u001b[49m\u001b[43mbody\u001b[49m\u001b[43m,\u001b[49m\u001b[43m \u001b[49m\u001b[43mencode_chunked\u001b[49m\u001b[43m=\u001b[49m\u001b[43mencode_chunked\u001b[49m\u001b[43m)\u001b[49m\n",
            "\u001b[36mFile \u001b[39m\u001b[32mc:\\Users\\Alex\\miniconda3\\envs\\geo\\Lib\\http\\client.py:1333\u001b[39m, in \u001b[36mHTTPConnection.endheaders\u001b[39m\u001b[34m(self, message_body, encode_chunked)\u001b[39m\n\u001b[32m   1332\u001b[39m     \u001b[38;5;28;01mraise\u001b[39;00m CannotSendHeader()\n\u001b[32m-> \u001b[39m\u001b[32m1333\u001b[39m \u001b[38;5;28;43mself\u001b[39;49m\u001b[43m.\u001b[49m\u001b[43m_send_output\u001b[49m\u001b[43m(\u001b[49m\u001b[43mmessage_body\u001b[49m\u001b[43m,\u001b[49m\u001b[43m \u001b[49m\u001b[43mencode_chunked\u001b[49m\u001b[43m=\u001b[49m\u001b[43mencode_chunked\u001b[49m\u001b[43m)\u001b[49m\n",
            "\u001b[36mFile \u001b[39m\u001b[32mc:\\Users\\Alex\\miniconda3\\envs\\geo\\Lib\\http\\client.py:1093\u001b[39m, in \u001b[36mHTTPConnection._send_output\u001b[39m\u001b[34m(self, message_body, encode_chunked)\u001b[39m\n\u001b[32m   1092\u001b[39m \u001b[38;5;28;01mdel\u001b[39;00m \u001b[38;5;28mself\u001b[39m._buffer[:]\n\u001b[32m-> \u001b[39m\u001b[32m1093\u001b[39m \u001b[38;5;28;43mself\u001b[39;49m\u001b[43m.\u001b[49m\u001b[43msend\u001b[49m\u001b[43m(\u001b[49m\u001b[43mmsg\u001b[49m\u001b[43m)\u001b[49m\n\u001b[32m   1095\u001b[39m \u001b[38;5;28;01mif\u001b[39;00m message_body \u001b[38;5;129;01mis\u001b[39;00m \u001b[38;5;129;01mnot\u001b[39;00m \u001b[38;5;28;01mNone\u001b[39;00m:\n\u001b[32m   1096\u001b[39m \n\u001b[32m   1097\u001b[39m     \u001b[38;5;66;03m# create a consistent interface to message_body\u001b[39;00m\n",
            "\u001b[36mFile \u001b[39m\u001b[32mc:\\Users\\Alex\\miniconda3\\envs\\geo\\Lib\\http\\client.py:1037\u001b[39m, in \u001b[36mHTTPConnection.send\u001b[39m\u001b[34m(self, data)\u001b[39m\n\u001b[32m   1036\u001b[39m \u001b[38;5;28;01mif\u001b[39;00m \u001b[38;5;28mself\u001b[39m.auto_open:\n\u001b[32m-> \u001b[39m\u001b[32m1037\u001b[39m     \u001b[38;5;28;43mself\u001b[39;49m\u001b[43m.\u001b[49m\u001b[43mconnect\u001b[49m\u001b[43m(\u001b[49m\u001b[43m)\u001b[49m\n\u001b[32m   1038\u001b[39m \u001b[38;5;28;01melse\u001b[39;00m:\n",
            "\u001b[36mFile \u001b[39m\u001b[32mc:\\Users\\Alex\\miniconda3\\envs\\geo\\Lib\\http\\client.py:1472\u001b[39m, in \u001b[36mHTTPSConnection.connect\u001b[39m\u001b[34m(self)\u001b[39m\n\u001b[32m   1470\u001b[39m \u001b[33m\"\u001b[39m\u001b[33mConnect to a host on a given (SSL) port.\u001b[39m\u001b[33m\"\u001b[39m\n\u001b[32m-> \u001b[39m\u001b[32m1472\u001b[39m \u001b[38;5;28;43msuper\u001b[39;49m\u001b[43m(\u001b[49m\u001b[43m)\u001b[49m\u001b[43m.\u001b[49m\u001b[43mconnect\u001b[49m\u001b[43m(\u001b[49m\u001b[43m)\u001b[49m\n\u001b[32m   1474\u001b[39m \u001b[38;5;28;01mif\u001b[39;00m \u001b[38;5;28mself\u001b[39m._tunnel_host:\n",
            "\u001b[36mFile \u001b[39m\u001b[32mc:\\Users\\Alex\\miniconda3\\envs\\geo\\Lib\\http\\client.py:1003\u001b[39m, in \u001b[36mHTTPConnection.connect\u001b[39m\u001b[34m(self)\u001b[39m\n\u001b[32m   1002\u001b[39m sys.audit(\u001b[33m\"\u001b[39m\u001b[33mhttp.client.connect\u001b[39m\u001b[33m\"\u001b[39m, \u001b[38;5;28mself\u001b[39m, \u001b[38;5;28mself\u001b[39m.host, \u001b[38;5;28mself\u001b[39m.port)\n\u001b[32m-> \u001b[39m\u001b[32m1003\u001b[39m \u001b[38;5;28mself\u001b[39m.sock = \u001b[38;5;28;43mself\u001b[39;49m\u001b[43m.\u001b[49m\u001b[43m_create_connection\u001b[49m\u001b[43m(\u001b[49m\n\u001b[32m   1004\u001b[39m \u001b[43m    \u001b[49m\u001b[43m(\u001b[49m\u001b[38;5;28;43mself\u001b[39;49m\u001b[43m.\u001b[49m\u001b[43mhost\u001b[49m\u001b[43m,\u001b[49m\u001b[38;5;28;43mself\u001b[39;49m\u001b[43m.\u001b[49m\u001b[43mport\u001b[49m\u001b[43m)\u001b[49m\u001b[43m,\u001b[49m\u001b[43m \u001b[49m\u001b[38;5;28;43mself\u001b[39;49m\u001b[43m.\u001b[49m\u001b[43mtimeout\u001b[49m\u001b[43m,\u001b[49m\u001b[43m \u001b[49m\u001b[38;5;28;43mself\u001b[39;49m\u001b[43m.\u001b[49m\u001b[43msource_address\u001b[49m\u001b[43m)\u001b[49m\n\u001b[32m   1005\u001b[39m \u001b[38;5;66;03m# Might fail in OSs that don't implement TCP_NODELAY\u001b[39;00m\n",
            "\u001b[36mFile \u001b[39m\u001b[32mc:\\Users\\Alex\\miniconda3\\envs\\geo\\Lib\\socket.py:841\u001b[39m, in \u001b[36mcreate_connection\u001b[39m\u001b[34m(address, timeout, source_address, all_errors)\u001b[39m\n\u001b[32m    840\u001b[39m exceptions = []\n\u001b[32m--> \u001b[39m\u001b[32m841\u001b[39m \u001b[38;5;28;01mfor\u001b[39;00m res \u001b[38;5;129;01min\u001b[39;00m \u001b[43mgetaddrinfo\u001b[49m\u001b[43m(\u001b[49m\u001b[43mhost\u001b[49m\u001b[43m,\u001b[49m\u001b[43m \u001b[49m\u001b[43mport\u001b[49m\u001b[43m,\u001b[49m\u001b[43m \u001b[49m\u001b[32;43m0\u001b[39;49m\u001b[43m,\u001b[49m\u001b[43m \u001b[49m\u001b[43mSOCK_STREAM\u001b[49m\u001b[43m)\u001b[49m:\n\u001b[32m    842\u001b[39m     af, socktype, proto, canonname, sa = res\n",
            "\u001b[36mFile \u001b[39m\u001b[32mc:\\Users\\Alex\\miniconda3\\envs\\geo\\Lib\\socket.py:978\u001b[39m, in \u001b[36mgetaddrinfo\u001b[39m\u001b[34m(host, port, family, type, proto, flags)\u001b[39m\n\u001b[32m    977\u001b[39m addrlist = []\n\u001b[32m--> \u001b[39m\u001b[32m978\u001b[39m \u001b[38;5;28;01mfor\u001b[39;00m res \u001b[38;5;129;01min\u001b[39;00m \u001b[43m_socket\u001b[49m\u001b[43m.\u001b[49m\u001b[43mgetaddrinfo\u001b[49m\u001b[43m(\u001b[49m\u001b[43mhost\u001b[49m\u001b[43m,\u001b[49m\u001b[43m \u001b[49m\u001b[43mport\u001b[49m\u001b[43m,\u001b[49m\u001b[43m \u001b[49m\u001b[43mfamily\u001b[49m\u001b[43m,\u001b[49m\u001b[43m \u001b[49m\u001b[38;5;28;43mtype\u001b[39;49m\u001b[43m,\u001b[49m\u001b[43m \u001b[49m\u001b[43mproto\u001b[49m\u001b[43m,\u001b[49m\u001b[43m \u001b[49m\u001b[43mflags\u001b[49m\u001b[43m)\u001b[49m:\n\u001b[32m    979\u001b[39m     af, socktype, proto, canonname, sa = res\n",
            "\u001b[31mgaierror\u001b[39m: [Errno 11001] getaddrinfo failed",
            "\nDuring handling of the above exception, another exception occurred:\n",
            "\u001b[31mURLError\u001b[39m                                  Traceback (most recent call last)",
            "\u001b[36mCell\u001b[39m\u001b[36m \u001b[39m\u001b[32mIn[15]\u001b[39m\u001b[32m, line 7\u001b[39m\n\u001b[32m      5\u001b[39m \u001b[38;5;66;03m# Step 1: Load the dataset\u001b[39;00m\n\u001b[32m      6\u001b[39m url = \u001b[33m\"\u001b[39m\u001b[33mhttps://github.com/opengeos/datasets/releases/download/world/world_cities.csv\u001b[39m\u001b[33m\"\u001b[39m\n\u001b[32m----> \u001b[39m\u001b[32m7\u001b[39m df = \u001b[43mpd\u001b[49m\u001b[43m.\u001b[49m\u001b[43mread_csv\u001b[49m\u001b[43m(\u001b[49m\u001b[43murl\u001b[49m\u001b[43m)\u001b[49m\n\u001b[32m      9\u001b[39m \u001b[38;5;66;03m# Step 2: Display the first 5 rows and check for missing values\u001b[39;00m\n\u001b[32m     10\u001b[39m \u001b[38;5;28mprint\u001b[39m(\u001b[33m\"\u001b[39m\u001b[33mFirst 5 rows of the dataset:\u001b[39m\u001b[33m\"\u001b[39m)\n",
            "\u001b[36mFile \u001b[39m\u001b[32mc:\\Users\\Alex\\miniconda3\\envs\\geo\\Lib\\site-packages\\pandas\\io\\parsers\\readers.py:1026\u001b[39m, in \u001b[36mread_csv\u001b[39m\u001b[34m(filepath_or_buffer, sep, delimiter, header, names, index_col, usecols, dtype, engine, converters, true_values, false_values, skipinitialspace, skiprows, skipfooter, nrows, na_values, keep_default_na, na_filter, verbose, skip_blank_lines, parse_dates, infer_datetime_format, keep_date_col, date_parser, date_format, dayfirst, cache_dates, iterator, chunksize, compression, thousands, decimal, lineterminator, quotechar, quoting, doublequote, escapechar, comment, encoding, encoding_errors, dialect, on_bad_lines, delim_whitespace, low_memory, memory_map, float_precision, storage_options, dtype_backend)\u001b[39m\n\u001b[32m   1013\u001b[39m kwds_defaults = _refine_defaults_read(\n\u001b[32m   1014\u001b[39m     dialect,\n\u001b[32m   1015\u001b[39m     delimiter,\n\u001b[32m   (...)\u001b[39m\u001b[32m   1022\u001b[39m     dtype_backend=dtype_backend,\n\u001b[32m   1023\u001b[39m )\n\u001b[32m   1024\u001b[39m kwds.update(kwds_defaults)\n\u001b[32m-> \u001b[39m\u001b[32m1026\u001b[39m \u001b[38;5;28;01mreturn\u001b[39;00m \u001b[43m_read\u001b[49m\u001b[43m(\u001b[49m\u001b[43mfilepath_or_buffer\u001b[49m\u001b[43m,\u001b[49m\u001b[43m \u001b[49m\u001b[43mkwds\u001b[49m\u001b[43m)\u001b[49m\n",
            "\u001b[36mFile \u001b[39m\u001b[32mc:\\Users\\Alex\\miniconda3\\envs\\geo\\Lib\\site-packages\\pandas\\io\\parsers\\readers.py:620\u001b[39m, in \u001b[36m_read\u001b[39m\u001b[34m(filepath_or_buffer, kwds)\u001b[39m\n\u001b[32m    617\u001b[39m _validate_names(kwds.get(\u001b[33m\"\u001b[39m\u001b[33mnames\u001b[39m\u001b[33m\"\u001b[39m, \u001b[38;5;28;01mNone\u001b[39;00m))\n\u001b[32m    619\u001b[39m \u001b[38;5;66;03m# Create the parser.\u001b[39;00m\n\u001b[32m--> \u001b[39m\u001b[32m620\u001b[39m parser = \u001b[43mTextFileReader\u001b[49m\u001b[43m(\u001b[49m\u001b[43mfilepath_or_buffer\u001b[49m\u001b[43m,\u001b[49m\u001b[43m \u001b[49m\u001b[43m*\u001b[49m\u001b[43m*\u001b[49m\u001b[43mkwds\u001b[49m\u001b[43m)\u001b[49m\n\u001b[32m    622\u001b[39m \u001b[38;5;28;01mif\u001b[39;00m chunksize \u001b[38;5;129;01mor\u001b[39;00m iterator:\n\u001b[32m    623\u001b[39m     \u001b[38;5;28;01mreturn\u001b[39;00m parser\n",
            "\u001b[36mFile \u001b[39m\u001b[32mc:\\Users\\Alex\\miniconda3\\envs\\geo\\Lib\\site-packages\\pandas\\io\\parsers\\readers.py:1620\u001b[39m, in \u001b[36mTextFileReader.__init__\u001b[39m\u001b[34m(self, f, engine, **kwds)\u001b[39m\n\u001b[32m   1617\u001b[39m     \u001b[38;5;28mself\u001b[39m.options[\u001b[33m\"\u001b[39m\u001b[33mhas_index_names\u001b[39m\u001b[33m\"\u001b[39m] = kwds[\u001b[33m\"\u001b[39m\u001b[33mhas_index_names\u001b[39m\u001b[33m\"\u001b[39m]\n\u001b[32m   1619\u001b[39m \u001b[38;5;28mself\u001b[39m.handles: IOHandles | \u001b[38;5;28;01mNone\u001b[39;00m = \u001b[38;5;28;01mNone\u001b[39;00m\n\u001b[32m-> \u001b[39m\u001b[32m1620\u001b[39m \u001b[38;5;28mself\u001b[39m._engine = \u001b[38;5;28;43mself\u001b[39;49m\u001b[43m.\u001b[49m\u001b[43m_make_engine\u001b[49m\u001b[43m(\u001b[49m\u001b[43mf\u001b[49m\u001b[43m,\u001b[49m\u001b[43m \u001b[49m\u001b[38;5;28;43mself\u001b[39;49m\u001b[43m.\u001b[49m\u001b[43mengine\u001b[49m\u001b[43m)\u001b[49m\n",
            "\u001b[36mFile \u001b[39m\u001b[32mc:\\Users\\Alex\\miniconda3\\envs\\geo\\Lib\\site-packages\\pandas\\io\\parsers\\readers.py:1880\u001b[39m, in \u001b[36mTextFileReader._make_engine\u001b[39m\u001b[34m(self, f, engine)\u001b[39m\n\u001b[32m   1878\u001b[39m     \u001b[38;5;28;01mif\u001b[39;00m \u001b[33m\"\u001b[39m\u001b[33mb\u001b[39m\u001b[33m\"\u001b[39m \u001b[38;5;129;01mnot\u001b[39;00m \u001b[38;5;129;01min\u001b[39;00m mode:\n\u001b[32m   1879\u001b[39m         mode += \u001b[33m\"\u001b[39m\u001b[33mb\u001b[39m\u001b[33m\"\u001b[39m\n\u001b[32m-> \u001b[39m\u001b[32m1880\u001b[39m \u001b[38;5;28mself\u001b[39m.handles = \u001b[43mget_handle\u001b[49m\u001b[43m(\u001b[49m\n\u001b[32m   1881\u001b[39m \u001b[43m    \u001b[49m\u001b[43mf\u001b[49m\u001b[43m,\u001b[49m\n\u001b[32m   1882\u001b[39m \u001b[43m    \u001b[49m\u001b[43mmode\u001b[49m\u001b[43m,\u001b[49m\n\u001b[32m   1883\u001b[39m \u001b[43m    \u001b[49m\u001b[43mencoding\u001b[49m\u001b[43m=\u001b[49m\u001b[38;5;28;43mself\u001b[39;49m\u001b[43m.\u001b[49m\u001b[43moptions\u001b[49m\u001b[43m.\u001b[49m\u001b[43mget\u001b[49m\u001b[43m(\u001b[49m\u001b[33;43m\"\u001b[39;49m\u001b[33;43mencoding\u001b[39;49m\u001b[33;43m\"\u001b[39;49m\u001b[43m,\u001b[49m\u001b[43m \u001b[49m\u001b[38;5;28;43;01mNone\u001b[39;49;00m\u001b[43m)\u001b[49m\u001b[43m,\u001b[49m\n\u001b[32m   1884\u001b[39m \u001b[43m    \u001b[49m\u001b[43mcompression\u001b[49m\u001b[43m=\u001b[49m\u001b[38;5;28;43mself\u001b[39;49m\u001b[43m.\u001b[49m\u001b[43moptions\u001b[49m\u001b[43m.\u001b[49m\u001b[43mget\u001b[49m\u001b[43m(\u001b[49m\u001b[33;43m\"\u001b[39;49m\u001b[33;43mcompression\u001b[39;49m\u001b[33;43m\"\u001b[39;49m\u001b[43m,\u001b[49m\u001b[43m \u001b[49m\u001b[38;5;28;43;01mNone\u001b[39;49;00m\u001b[43m)\u001b[49m\u001b[43m,\u001b[49m\n\u001b[32m   1885\u001b[39m \u001b[43m    \u001b[49m\u001b[43mmemory_map\u001b[49m\u001b[43m=\u001b[49m\u001b[38;5;28;43mself\u001b[39;49m\u001b[43m.\u001b[49m\u001b[43moptions\u001b[49m\u001b[43m.\u001b[49m\u001b[43mget\u001b[49m\u001b[43m(\u001b[49m\u001b[33;43m\"\u001b[39;49m\u001b[33;43mmemory_map\u001b[39;49m\u001b[33;43m\"\u001b[39;49m\u001b[43m,\u001b[49m\u001b[43m \u001b[49m\u001b[38;5;28;43;01mFalse\u001b[39;49;00m\u001b[43m)\u001b[49m\u001b[43m,\u001b[49m\n\u001b[32m   1886\u001b[39m \u001b[43m    \u001b[49m\u001b[43mis_text\u001b[49m\u001b[43m=\u001b[49m\u001b[43mis_text\u001b[49m\u001b[43m,\u001b[49m\n\u001b[32m   1887\u001b[39m \u001b[43m    \u001b[49m\u001b[43merrors\u001b[49m\u001b[43m=\u001b[49m\u001b[38;5;28;43mself\u001b[39;49m\u001b[43m.\u001b[49m\u001b[43moptions\u001b[49m\u001b[43m.\u001b[49m\u001b[43mget\u001b[49m\u001b[43m(\u001b[49m\u001b[33;43m\"\u001b[39;49m\u001b[33;43mencoding_errors\u001b[39;49m\u001b[33;43m\"\u001b[39;49m\u001b[43m,\u001b[49m\u001b[43m \u001b[49m\u001b[33;43m\"\u001b[39;49m\u001b[33;43mstrict\u001b[39;49m\u001b[33;43m\"\u001b[39;49m\u001b[43m)\u001b[49m\u001b[43m,\u001b[49m\n\u001b[32m   1888\u001b[39m \u001b[43m    \u001b[49m\u001b[43mstorage_options\u001b[49m\u001b[43m=\u001b[49m\u001b[38;5;28;43mself\u001b[39;49m\u001b[43m.\u001b[49m\u001b[43moptions\u001b[49m\u001b[43m.\u001b[49m\u001b[43mget\u001b[49m\u001b[43m(\u001b[49m\u001b[33;43m\"\u001b[39;49m\u001b[33;43mstorage_options\u001b[39;49m\u001b[33;43m\"\u001b[39;49m\u001b[43m,\u001b[49m\u001b[43m \u001b[49m\u001b[38;5;28;43;01mNone\u001b[39;49;00m\u001b[43m)\u001b[49m\u001b[43m,\u001b[49m\n\u001b[32m   1889\u001b[39m \u001b[43m\u001b[49m\u001b[43m)\u001b[49m\n\u001b[32m   1890\u001b[39m \u001b[38;5;28;01massert\u001b[39;00m \u001b[38;5;28mself\u001b[39m.handles \u001b[38;5;129;01mis\u001b[39;00m \u001b[38;5;129;01mnot\u001b[39;00m \u001b[38;5;28;01mNone\u001b[39;00m\n\u001b[32m   1891\u001b[39m f = \u001b[38;5;28mself\u001b[39m.handles.handle\n",
            "\u001b[36mFile \u001b[39m\u001b[32mc:\\Users\\Alex\\miniconda3\\envs\\geo\\Lib\\site-packages\\pandas\\io\\common.py:728\u001b[39m, in \u001b[36mget_handle\u001b[39m\u001b[34m(path_or_buf, mode, encoding, compression, memory_map, is_text, errors, storage_options)\u001b[39m\n\u001b[32m    725\u001b[39m     codecs.lookup_error(errors)\n\u001b[32m    727\u001b[39m \u001b[38;5;66;03m# open URLs\u001b[39;00m\n\u001b[32m--> \u001b[39m\u001b[32m728\u001b[39m ioargs = \u001b[43m_get_filepath_or_buffer\u001b[49m\u001b[43m(\u001b[49m\n\u001b[32m    729\u001b[39m \u001b[43m    \u001b[49m\u001b[43mpath_or_buf\u001b[49m\u001b[43m,\u001b[49m\n\u001b[32m    730\u001b[39m \u001b[43m    \u001b[49m\u001b[43mencoding\u001b[49m\u001b[43m=\u001b[49m\u001b[43mencoding\u001b[49m\u001b[43m,\u001b[49m\n\u001b[32m    731\u001b[39m \u001b[43m    \u001b[49m\u001b[43mcompression\u001b[49m\u001b[43m=\u001b[49m\u001b[43mcompression\u001b[49m\u001b[43m,\u001b[49m\n\u001b[32m    732\u001b[39m \u001b[43m    \u001b[49m\u001b[43mmode\u001b[49m\u001b[43m=\u001b[49m\u001b[43mmode\u001b[49m\u001b[43m,\u001b[49m\n\u001b[32m    733\u001b[39m \u001b[43m    \u001b[49m\u001b[43mstorage_options\u001b[49m\u001b[43m=\u001b[49m\u001b[43mstorage_options\u001b[49m\u001b[43m,\u001b[49m\n\u001b[32m    734\u001b[39m \u001b[43m\u001b[49m\u001b[43m)\u001b[49m\n\u001b[32m    736\u001b[39m handle = ioargs.filepath_or_buffer\n\u001b[32m    737\u001b[39m handles: \u001b[38;5;28mlist\u001b[39m[BaseBuffer]\n",
            "\u001b[36mFile \u001b[39m\u001b[32mc:\\Users\\Alex\\miniconda3\\envs\\geo\\Lib\\site-packages\\pandas\\io\\common.py:384\u001b[39m, in \u001b[36m_get_filepath_or_buffer\u001b[39m\u001b[34m(filepath_or_buffer, encoding, compression, mode, storage_options)\u001b[39m\n\u001b[32m    382\u001b[39m \u001b[38;5;66;03m# assuming storage_options is to be interpreted as headers\u001b[39;00m\n\u001b[32m    383\u001b[39m req_info = urllib.request.Request(filepath_or_buffer, headers=storage_options)\n\u001b[32m--> \u001b[39m\u001b[32m384\u001b[39m \u001b[38;5;28;01mwith\u001b[39;00m \u001b[43murlopen\u001b[49m\u001b[43m(\u001b[49m\u001b[43mreq_info\u001b[49m\u001b[43m)\u001b[49m \u001b[38;5;28;01mas\u001b[39;00m req:\n\u001b[32m    385\u001b[39m     content_encoding = req.headers.get(\u001b[33m\"\u001b[39m\u001b[33mContent-Encoding\u001b[39m\u001b[33m\"\u001b[39m, \u001b[38;5;28;01mNone\u001b[39;00m)\n\u001b[32m    386\u001b[39m     \u001b[38;5;28;01mif\u001b[39;00m content_encoding == \u001b[33m\"\u001b[39m\u001b[33mgzip\u001b[39m\u001b[33m\"\u001b[39m:\n\u001b[32m    387\u001b[39m         \u001b[38;5;66;03m# Override compression based on Content-Encoding header\u001b[39;00m\n",
            "\u001b[36mFile \u001b[39m\u001b[32mc:\\Users\\Alex\\miniconda3\\envs\\geo\\Lib\\site-packages\\pandas\\io\\common.py:289\u001b[39m, in \u001b[36murlopen\u001b[39m\u001b[34m(*args, **kwargs)\u001b[39m\n\u001b[32m    283\u001b[39m \u001b[38;5;250m\u001b[39m\u001b[33;03m\"\"\"\u001b[39;00m\n\u001b[32m    284\u001b[39m \u001b[33;03mLazy-import wrapper for stdlib urlopen, as that imports a big chunk of\u001b[39;00m\n\u001b[32m    285\u001b[39m \u001b[33;03mthe stdlib.\u001b[39;00m\n\u001b[32m    286\u001b[39m \u001b[33;03m\"\"\"\u001b[39;00m\n\u001b[32m    287\u001b[39m \u001b[38;5;28;01mimport\u001b[39;00m\u001b[38;5;250m \u001b[39m\u001b[34;01murllib\u001b[39;00m\u001b[34;01m.\u001b[39;00m\u001b[34;01mrequest\u001b[39;00m\n\u001b[32m--> \u001b[39m\u001b[32m289\u001b[39m \u001b[38;5;28;01mreturn\u001b[39;00m \u001b[43murllib\u001b[49m\u001b[43m.\u001b[49m\u001b[43mrequest\u001b[49m\u001b[43m.\u001b[49m\u001b[43murlopen\u001b[49m\u001b[43m(\u001b[49m\u001b[43m*\u001b[49m\u001b[43margs\u001b[49m\u001b[43m,\u001b[49m\u001b[43m \u001b[49m\u001b[43m*\u001b[49m\u001b[43m*\u001b[49m\u001b[43mkwargs\u001b[49m\u001b[43m)\u001b[49m\n",
            "\u001b[36mFile \u001b[39m\u001b[32mc:\\Users\\Alex\\miniconda3\\envs\\geo\\Lib\\urllib\\request.py:215\u001b[39m, in \u001b[36murlopen\u001b[39m\u001b[34m(url, data, timeout, cafile, capath, cadefault, context)\u001b[39m\n\u001b[32m    213\u001b[39m \u001b[38;5;28;01melse\u001b[39;00m:\n\u001b[32m    214\u001b[39m     opener = _opener\n\u001b[32m--> \u001b[39m\u001b[32m215\u001b[39m \u001b[38;5;28;01mreturn\u001b[39;00m \u001b[43mopener\u001b[49m\u001b[43m.\u001b[49m\u001b[43mopen\u001b[49m\u001b[43m(\u001b[49m\u001b[43murl\u001b[49m\u001b[43m,\u001b[49m\u001b[43m \u001b[49m\u001b[43mdata\u001b[49m\u001b[43m,\u001b[49m\u001b[43m \u001b[49m\u001b[43mtimeout\u001b[49m\u001b[43m)\u001b[49m\n",
            "\u001b[36mFile \u001b[39m\u001b[32mc:\\Users\\Alex\\miniconda3\\envs\\geo\\Lib\\urllib\\request.py:515\u001b[39m, in \u001b[36mOpenerDirector.open\u001b[39m\u001b[34m(self, fullurl, data, timeout)\u001b[39m\n\u001b[32m    512\u001b[39m     req = meth(req)\n\u001b[32m    514\u001b[39m sys.audit(\u001b[33m'\u001b[39m\u001b[33murllib.Request\u001b[39m\u001b[33m'\u001b[39m, req.full_url, req.data, req.headers, req.get_method())\n\u001b[32m--> \u001b[39m\u001b[32m515\u001b[39m response = \u001b[38;5;28;43mself\u001b[39;49m\u001b[43m.\u001b[49m\u001b[43m_open\u001b[49m\u001b[43m(\u001b[49m\u001b[43mreq\u001b[49m\u001b[43m,\u001b[49m\u001b[43m \u001b[49m\u001b[43mdata\u001b[49m\u001b[43m)\u001b[49m\n\u001b[32m    517\u001b[39m \u001b[38;5;66;03m# post-process response\u001b[39;00m\n\u001b[32m    518\u001b[39m meth_name = protocol+\u001b[33m\"\u001b[39m\u001b[33m_response\u001b[39m\u001b[33m\"\u001b[39m\n",
            "\u001b[36mFile \u001b[39m\u001b[32mc:\\Users\\Alex\\miniconda3\\envs\\geo\\Lib\\urllib\\request.py:532\u001b[39m, in \u001b[36mOpenerDirector._open\u001b[39m\u001b[34m(self, req, data)\u001b[39m\n\u001b[32m    529\u001b[39m     \u001b[38;5;28;01mreturn\u001b[39;00m result\n\u001b[32m    531\u001b[39m protocol = req.type\n\u001b[32m--> \u001b[39m\u001b[32m532\u001b[39m result = \u001b[38;5;28;43mself\u001b[39;49m\u001b[43m.\u001b[49m\u001b[43m_call_chain\u001b[49m\u001b[43m(\u001b[49m\u001b[38;5;28;43mself\u001b[39;49m\u001b[43m.\u001b[49m\u001b[43mhandle_open\u001b[49m\u001b[43m,\u001b[49m\u001b[43m \u001b[49m\u001b[43mprotocol\u001b[49m\u001b[43m,\u001b[49m\u001b[43m \u001b[49m\u001b[43mprotocol\u001b[49m\u001b[43m \u001b[49m\u001b[43m+\u001b[49m\n\u001b[32m    533\u001b[39m \u001b[43m                          \u001b[49m\u001b[33;43m'\u001b[39;49m\u001b[33;43m_open\u001b[39;49m\u001b[33;43m'\u001b[39;49m\u001b[43m,\u001b[49m\u001b[43m \u001b[49m\u001b[43mreq\u001b[49m\u001b[43m)\u001b[49m\n\u001b[32m    534\u001b[39m \u001b[38;5;28;01mif\u001b[39;00m result:\n\u001b[32m    535\u001b[39m     \u001b[38;5;28;01mreturn\u001b[39;00m result\n",
            "\u001b[36mFile \u001b[39m\u001b[32mc:\\Users\\Alex\\miniconda3\\envs\\geo\\Lib\\urllib\\request.py:492\u001b[39m, in \u001b[36mOpenerDirector._call_chain\u001b[39m\u001b[34m(self, chain, kind, meth_name, *args)\u001b[39m\n\u001b[32m    490\u001b[39m \u001b[38;5;28;01mfor\u001b[39;00m handler \u001b[38;5;129;01min\u001b[39;00m handlers:\n\u001b[32m    491\u001b[39m     func = \u001b[38;5;28mgetattr\u001b[39m(handler, meth_name)\n\u001b[32m--> \u001b[39m\u001b[32m492\u001b[39m     result = \u001b[43mfunc\u001b[49m\u001b[43m(\u001b[49m\u001b[43m*\u001b[49m\u001b[43margs\u001b[49m\u001b[43m)\u001b[49m\n\u001b[32m    493\u001b[39m     \u001b[38;5;28;01mif\u001b[39;00m result \u001b[38;5;129;01mis\u001b[39;00m \u001b[38;5;129;01mnot\u001b[39;00m \u001b[38;5;28;01mNone\u001b[39;00m:\n\u001b[32m    494\u001b[39m         \u001b[38;5;28;01mreturn\u001b[39;00m result\n",
            "\u001b[36mFile \u001b[39m\u001b[32mc:\\Users\\Alex\\miniconda3\\envs\\geo\\Lib\\urllib\\request.py:1392\u001b[39m, in \u001b[36mHTTPSHandler.https_open\u001b[39m\u001b[34m(self, req)\u001b[39m\n\u001b[32m   1391\u001b[39m \u001b[38;5;28;01mdef\u001b[39;00m\u001b[38;5;250m \u001b[39m\u001b[34mhttps_open\u001b[39m(\u001b[38;5;28mself\u001b[39m, req):\n\u001b[32m-> \u001b[39m\u001b[32m1392\u001b[39m     \u001b[38;5;28;01mreturn\u001b[39;00m \u001b[38;5;28;43mself\u001b[39;49m\u001b[43m.\u001b[49m\u001b[43mdo_open\u001b[49m\u001b[43m(\u001b[49m\u001b[43mhttp\u001b[49m\u001b[43m.\u001b[49m\u001b[43mclient\u001b[49m\u001b[43m.\u001b[49m\u001b[43mHTTPSConnection\u001b[49m\u001b[43m,\u001b[49m\u001b[43m \u001b[49m\u001b[43mreq\u001b[49m\u001b[43m,\u001b[49m\n\u001b[32m   1393\u001b[39m \u001b[43m                        \u001b[49m\u001b[43mcontext\u001b[49m\u001b[43m=\u001b[49m\u001b[38;5;28;43mself\u001b[39;49m\u001b[43m.\u001b[49m\u001b[43m_context\u001b[49m\u001b[43m)\u001b[49m\n",
            "\u001b[36mFile \u001b[39m\u001b[32mc:\\Users\\Alex\\miniconda3\\envs\\geo\\Lib\\urllib\\request.py:1347\u001b[39m, in \u001b[36mAbstractHTTPHandler.do_open\u001b[39m\u001b[34m(self, http_class, req, **http_conn_args)\u001b[39m\n\u001b[32m   1344\u001b[39m         h.request(req.get_method(), req.selector, req.data, headers,\n\u001b[32m   1345\u001b[39m                   encode_chunked=req.has_header(\u001b[33m'\u001b[39m\u001b[33mTransfer-encoding\u001b[39m\u001b[33m'\u001b[39m))\n\u001b[32m   1346\u001b[39m     \u001b[38;5;28;01mexcept\u001b[39;00m \u001b[38;5;167;01mOSError\u001b[39;00m \u001b[38;5;28;01mas\u001b[39;00m err: \u001b[38;5;66;03m# timeout error\u001b[39;00m\n\u001b[32m-> \u001b[39m\u001b[32m1347\u001b[39m         \u001b[38;5;28;01mraise\u001b[39;00m URLError(err)\n\u001b[32m   1348\u001b[39m     r = h.getresponse()\n\u001b[32m   1349\u001b[39m \u001b[38;5;28;01mexcept\u001b[39;00m:\n",
            "\u001b[31mURLError\u001b[39m: <urlopen error [Errno 11001] getaddrinfo failed>"
          ]
        }
      ],
      "source": [
        "#  Make sure pandas has been installed on your machine. \n",
        "\n",
        "import pandas as pd\n",
        "\n",
        "# Step 1: Load the dataset\n",
        "url = \"https://github.com/opengeos/datasets/releases/download/world/world_cities.csv\"\n",
        "df = pd.read_csv(url)\n",
        "\n",
        "# Step 2: Display the first 5 rows and check for missing values\n",
        "print(\"First 5 rows of the dataset:\")\n",
        "print(df.head())\n",
        "print(\"\\nSummary of missing values:\")\n",
        "print(df.isnull().sum())\n",
        "\n",
        "# Step 3: Filter cities with population greater than 1 million\n",
        "df_filtered = df[df['population'] > 1_000_000]\n",
        "\n",
        "# Step 4: Group by country and calculate total population\n",
        "country_population = df_filtered.groupby('country')['population'].sum().reset_index()\n",
        "country_population = country_population.sort_values(by='population', ascending=False)\n",
        "print(\"\\nTotal population per country (for cities > 1 million):\")\n",
        "print(country_population)\n",
        "\n",
        "# Step 5: Sort cities by population in descending order and display the top 10\n",
        "top_cities = df_filtered.sort_values(by='population', ascending=False).head(10)\n",
        "print(\"\\nTop 10 cities by population (greater than 1 million):\")\n",
        "print(top_cities[['name', 'country', 'population']])\n",
        "\n"
      ]
    },
    {
      "cell_type": "markdown",
      "id": "17",
      "metadata": {
        "id": "17"
      },
      "source": [
        "## Exercise 9: Creating and Manipulating GeoDataFrames with GeoPandas\n",
        "\n",
        "This exercise focuses on creating and manipulating GeoDataFrames, performing spatial operations, and visualizing the data.\n",
        "\n",
        "1. Load the New York City building dataset from the GeoJSON file using GeoPandas: https://github.com/opengeos/datasets/releases/download/places/nyc_buildings.geojson\n",
        "2. Create a plot of the building footprints and color them based on the building height (use the `height_MS` column).\n",
        "3. Create an interactive map of the building footprints and color them based on the building height (use the `height_MS` column).\n",
        "4. Calculate the average building height (use the `height_MS` column).\n",
        "5. Select buildings with a height greater than the average height.\n",
        "6. Save the GeoDataFrame to a new GeoJSON file."
      ]
    },
    {
      "cell_type": "code",
      "execution_count": null,
      "id": "18",
      "metadata": {
        "id": "18"
      },
      "outputs": [],
      "source": []
    },
    {
      "cell_type": "markdown",
      "id": "19",
      "metadata": {
        "id": "19"
      },
      "source": [
        "## Exercise 10: Combining NumPy, Pandas, and GeoPandas\n",
        "\n",
        "This exercise requires you to combine the power of NumPy, Pandas, and GeoPandas to analyze and visualize spatial data.\n",
        "\n",
        "1. Use Pandas to load the world cities dataset from this URL: https://github.com/opengeos/datasets/releases/download/world/world_cities.csv\n",
        "2. Filter the dataset to include only cities with latitude values between -40 and 60 (i.e., cities located in the Northern Hemisphere or near the equator).\n",
        "3. Create a GeoDataFrame from the filtered dataset by converting the latitude and longitude into geometries.\n",
        "4. Reproject the GeoDataFrame to the Mercator projection (EPSG:3857).\n",
        "5. Calculate the distance (in meters) between each city and the city of Paris.\n",
        "6. Plot the cities on a world map, coloring the points by their distance from Paris."
      ]
    },
    {
      "cell_type": "code",
      "execution_count": null,
      "id": "20",
      "metadata": {
        "id": "20"
      },
      "outputs": [],
      "source": []
    },
    {
      "cell_type": "markdown",
      "id": "21",
      "metadata": {
        "id": "21"
      },
      "source": [
        "## Submission Requirements\n",
        "\n",
        "Complete the exercises above and and upload the notebook to your GitHub repository. Make sure the notebook has a Colab badge at the top so that it can be easily opened in Google Colab. Submit the URL of the notebook to Canvas."
      ]
    }
  ],
  "metadata": {
    "colab": {
      "provenance": []
    },
    "kernelspec": {
      "display_name": "geo",
      "language": "python",
      "name": "python3"
    },
    "language_info": {
      "codemirror_mode": {
        "name": "ipython",
        "version": 3
      },
      "file_extension": ".py",
      "mimetype": "text/x-python",
      "name": "python",
      "nbconvert_exporter": "python",
      "pygments_lexer": "ipython3",
      "version": "3.12.9"
    }
  },
  "nbformat": 4,
  "nbformat_minor": 5
}
